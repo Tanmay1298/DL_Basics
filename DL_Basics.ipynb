{
  "nbformat": 4,
  "nbformat_minor": 0,
  "metadata": {
    "colab": {
      "name": "DL_Basics.ipynb",
      "provenance": []
    },
    "kernelspec": {
      "name": "python3",
      "display_name": "Python 3"
    }
  },
  "cells": [
    {
      "cell_type": "markdown",
      "metadata": {
        "id": "-qeT_yLj8zA0",
        "colab_type": "text"
      },
      "source": [
        "How to choose activation function : https://missinglink.ai/guides/neural-network-concepts/7-types-neural-network-activation-functions-right/"
      ]
    },
    {
      "cell_type": "markdown",
      "metadata": {
        "id": "-Le51LFIPHA3",
        "colab_type": "text"
      },
      "source": [
        "# MLP models for Binary Classification"
      ]
    },
    {
      "cell_type": "markdown",
      "metadata": {
        "id": "kJcuTvLsGCp3",
        "colab_type": "text"
      },
      "source": [
        "A multi layer perceptron (MLP) is a class of feed forward artificial neural network. MLP consists of at least three layers of nodes: an input layer, a hidden layer and an output layer. Except for the input nodes, each node is a neuron that uses a nonlinear activation function. MLP utilizes a supervised learning technique called back propagation for training.\n",
        "\n"
      ]
    },
    {
      "cell_type": "markdown",
      "metadata": {
        "id": "vtTeJPgvH2Jq",
        "colab_type": "text"
      },
      "source": [
        "**Basic Data Exploration**\n",
        "\n",
        "**Label Encoding**\n",
        "In machine learning, we usually deal with datasets which contains multiple labels in one or more than one columns. These labels can be in the form of words or numbers. ... Label Encoding refers to converting the labels into numeric form so as to convert it into the machine-readable form."
      ]
    },
    {
      "cell_type": "code",
      "metadata": {
        "id": "HbmQCO7SGFZp",
        "colab_type": "code",
        "colab": {
          "base_uri": "https://localhost:8080/",
          "height": 224
        },
        "outputId": "4c97058e-746c-4636-c4c7-15dd4d6aa3d3"
      },
      "source": [
        "import pandas as pd \n",
        "df = pd.read_csv('/content/bank-additional-full.csv',sep=';')\n",
        "df.head()"
      ],
      "execution_count": null,
      "outputs": [
        {
          "output_type": "execute_result",
          "data": {
            "text/html": [
              "<div>\n",
              "<style scoped>\n",
              "    .dataframe tbody tr th:only-of-type {\n",
              "        vertical-align: middle;\n",
              "    }\n",
              "\n",
              "    .dataframe tbody tr th {\n",
              "        vertical-align: top;\n",
              "    }\n",
              "\n",
              "    .dataframe thead th {\n",
              "        text-align: right;\n",
              "    }\n",
              "</style>\n",
              "<table border=\"1\" class=\"dataframe\">\n",
              "  <thead>\n",
              "    <tr style=\"text-align: right;\">\n",
              "      <th></th>\n",
              "      <th>age</th>\n",
              "      <th>job</th>\n",
              "      <th>marital</th>\n",
              "      <th>education</th>\n",
              "      <th>default</th>\n",
              "      <th>housing</th>\n",
              "      <th>loan</th>\n",
              "      <th>contact</th>\n",
              "      <th>month</th>\n",
              "      <th>day_of_week</th>\n",
              "      <th>duration</th>\n",
              "      <th>campaign</th>\n",
              "      <th>pdays</th>\n",
              "      <th>previous</th>\n",
              "      <th>poutcome</th>\n",
              "      <th>emp.var.rate</th>\n",
              "      <th>cons.price.idx</th>\n",
              "      <th>cons.conf.idx</th>\n",
              "      <th>euribor3m</th>\n",
              "      <th>nr.employed</th>\n",
              "      <th>y</th>\n",
              "    </tr>\n",
              "  </thead>\n",
              "  <tbody>\n",
              "    <tr>\n",
              "      <th>0</th>\n",
              "      <td>56</td>\n",
              "      <td>housemaid</td>\n",
              "      <td>married</td>\n",
              "      <td>basic.4y</td>\n",
              "      <td>no</td>\n",
              "      <td>no</td>\n",
              "      <td>no</td>\n",
              "      <td>telephone</td>\n",
              "      <td>may</td>\n",
              "      <td>mon</td>\n",
              "      <td>261</td>\n",
              "      <td>1</td>\n",
              "      <td>999</td>\n",
              "      <td>0</td>\n",
              "      <td>nonexistent</td>\n",
              "      <td>1.1</td>\n",
              "      <td>93.994</td>\n",
              "      <td>-36.4</td>\n",
              "      <td>4.857</td>\n",
              "      <td>5191.0</td>\n",
              "      <td>no</td>\n",
              "    </tr>\n",
              "    <tr>\n",
              "      <th>1</th>\n",
              "      <td>57</td>\n",
              "      <td>services</td>\n",
              "      <td>married</td>\n",
              "      <td>high.school</td>\n",
              "      <td>unknown</td>\n",
              "      <td>no</td>\n",
              "      <td>no</td>\n",
              "      <td>telephone</td>\n",
              "      <td>may</td>\n",
              "      <td>mon</td>\n",
              "      <td>149</td>\n",
              "      <td>1</td>\n",
              "      <td>999</td>\n",
              "      <td>0</td>\n",
              "      <td>nonexistent</td>\n",
              "      <td>1.1</td>\n",
              "      <td>93.994</td>\n",
              "      <td>-36.4</td>\n",
              "      <td>4.857</td>\n",
              "      <td>5191.0</td>\n",
              "      <td>no</td>\n",
              "    </tr>\n",
              "    <tr>\n",
              "      <th>2</th>\n",
              "      <td>37</td>\n",
              "      <td>services</td>\n",
              "      <td>married</td>\n",
              "      <td>high.school</td>\n",
              "      <td>no</td>\n",
              "      <td>yes</td>\n",
              "      <td>no</td>\n",
              "      <td>telephone</td>\n",
              "      <td>may</td>\n",
              "      <td>mon</td>\n",
              "      <td>226</td>\n",
              "      <td>1</td>\n",
              "      <td>999</td>\n",
              "      <td>0</td>\n",
              "      <td>nonexistent</td>\n",
              "      <td>1.1</td>\n",
              "      <td>93.994</td>\n",
              "      <td>-36.4</td>\n",
              "      <td>4.857</td>\n",
              "      <td>5191.0</td>\n",
              "      <td>no</td>\n",
              "    </tr>\n",
              "    <tr>\n",
              "      <th>3</th>\n",
              "      <td>40</td>\n",
              "      <td>admin.</td>\n",
              "      <td>married</td>\n",
              "      <td>basic.6y</td>\n",
              "      <td>no</td>\n",
              "      <td>no</td>\n",
              "      <td>no</td>\n",
              "      <td>telephone</td>\n",
              "      <td>may</td>\n",
              "      <td>mon</td>\n",
              "      <td>151</td>\n",
              "      <td>1</td>\n",
              "      <td>999</td>\n",
              "      <td>0</td>\n",
              "      <td>nonexistent</td>\n",
              "      <td>1.1</td>\n",
              "      <td>93.994</td>\n",
              "      <td>-36.4</td>\n",
              "      <td>4.857</td>\n",
              "      <td>5191.0</td>\n",
              "      <td>no</td>\n",
              "    </tr>\n",
              "    <tr>\n",
              "      <th>4</th>\n",
              "      <td>56</td>\n",
              "      <td>services</td>\n",
              "      <td>married</td>\n",
              "      <td>high.school</td>\n",
              "      <td>no</td>\n",
              "      <td>no</td>\n",
              "      <td>yes</td>\n",
              "      <td>telephone</td>\n",
              "      <td>may</td>\n",
              "      <td>mon</td>\n",
              "      <td>307</td>\n",
              "      <td>1</td>\n",
              "      <td>999</td>\n",
              "      <td>0</td>\n",
              "      <td>nonexistent</td>\n",
              "      <td>1.1</td>\n",
              "      <td>93.994</td>\n",
              "      <td>-36.4</td>\n",
              "      <td>4.857</td>\n",
              "      <td>5191.0</td>\n",
              "      <td>no</td>\n",
              "    </tr>\n",
              "  </tbody>\n",
              "</table>\n",
              "</div>"
            ],
            "text/plain": [
              "   age        job  marital  ... euribor3m nr.employed   y\n",
              "0   56  housemaid  married  ...     4.857      5191.0  no\n",
              "1   57   services  married  ...     4.857      5191.0  no\n",
              "2   37   services  married  ...     4.857      5191.0  no\n",
              "3   40     admin.  married  ...     4.857      5191.0  no\n",
              "4   56   services  married  ...     4.857      5191.0  no\n",
              "\n",
              "[5 rows x 21 columns]"
            ]
          },
          "metadata": {
            "tags": []
          },
          "execution_count": 2
        }
      ]
    },
    {
      "cell_type": "code",
      "metadata": {
        "id": "68Z-uFfKIzgu",
        "colab_type": "code",
        "colab": {}
      },
      "source": [
        "from sklearn.preprocessing import LabelEncoder\n",
        "LE = LabelEncoder()"
      ],
      "execution_count": null,
      "outputs": []
    },
    {
      "cell_type": "code",
      "metadata": {
        "id": "2_mW6V2LJHp4",
        "colab_type": "code",
        "colab": {}
      },
      "source": [
        "#Work on the Categorical Values \n",
        "df['job_code'] = LE.fit_transform(df['job'])\n",
        "df['marital_code'] = LE.fit_transform(df['marital'])\n",
        "df['education_code'] = LE.fit_transform(df['education'])\n",
        "df['housing_code'] = LE.fit_transform(df['housing'])\n",
        "df['loan_code'] = LE.fit_transform(df['loan'])\n",
        "df['contact_code'] = LE.fit_transform(df['contact'])\n",
        "df['poutcome_code'] = LE.fit_transform(df['poutcome'])\n",
        "df['subscribed'] = LE.fit_transform(df['y'])"
      ],
      "execution_count": null,
      "outputs": []
    },
    {
      "cell_type": "code",
      "metadata": {
        "id": "Ncoo9UMLJPsu",
        "colab_type": "code",
        "colab": {
          "base_uri": "https://localhost:8080/",
          "height": 224
        },
        "outputId": "e154fcd8-0c65-4dd2-ea18-d6fa8db0b618"
      },
      "source": [
        "df.head()"
      ],
      "execution_count": null,
      "outputs": [
        {
          "output_type": "execute_result",
          "data": {
            "text/html": [
              "<div>\n",
              "<style scoped>\n",
              "    .dataframe tbody tr th:only-of-type {\n",
              "        vertical-align: middle;\n",
              "    }\n",
              "\n",
              "    .dataframe tbody tr th {\n",
              "        vertical-align: top;\n",
              "    }\n",
              "\n",
              "    .dataframe thead th {\n",
              "        text-align: right;\n",
              "    }\n",
              "</style>\n",
              "<table border=\"1\" class=\"dataframe\">\n",
              "  <thead>\n",
              "    <tr style=\"text-align: right;\">\n",
              "      <th></th>\n",
              "      <th>age</th>\n",
              "      <th>job</th>\n",
              "      <th>marital</th>\n",
              "      <th>education</th>\n",
              "      <th>default</th>\n",
              "      <th>housing</th>\n",
              "      <th>loan</th>\n",
              "      <th>contact</th>\n",
              "      <th>month</th>\n",
              "      <th>day_of_week</th>\n",
              "      <th>duration</th>\n",
              "      <th>campaign</th>\n",
              "      <th>pdays</th>\n",
              "      <th>previous</th>\n",
              "      <th>poutcome</th>\n",
              "      <th>emp.var.rate</th>\n",
              "      <th>cons.price.idx</th>\n",
              "      <th>cons.conf.idx</th>\n",
              "      <th>euribor3m</th>\n",
              "      <th>nr.employed</th>\n",
              "      <th>y</th>\n",
              "      <th>job_code</th>\n",
              "      <th>marital_code</th>\n",
              "      <th>education_code</th>\n",
              "      <th>housing_code</th>\n",
              "      <th>loan_code</th>\n",
              "      <th>contact_code</th>\n",
              "      <th>poutcome_code</th>\n",
              "      <th>subscribed</th>\n",
              "    </tr>\n",
              "  </thead>\n",
              "  <tbody>\n",
              "    <tr>\n",
              "      <th>0</th>\n",
              "      <td>56</td>\n",
              "      <td>housemaid</td>\n",
              "      <td>married</td>\n",
              "      <td>basic.4y</td>\n",
              "      <td>no</td>\n",
              "      <td>no</td>\n",
              "      <td>no</td>\n",
              "      <td>telephone</td>\n",
              "      <td>may</td>\n",
              "      <td>mon</td>\n",
              "      <td>261</td>\n",
              "      <td>1</td>\n",
              "      <td>999</td>\n",
              "      <td>0</td>\n",
              "      <td>nonexistent</td>\n",
              "      <td>1.1</td>\n",
              "      <td>93.994</td>\n",
              "      <td>-36.4</td>\n",
              "      <td>4.857</td>\n",
              "      <td>5191.0</td>\n",
              "      <td>no</td>\n",
              "      <td>3</td>\n",
              "      <td>1</td>\n",
              "      <td>0</td>\n",
              "      <td>0</td>\n",
              "      <td>0</td>\n",
              "      <td>1</td>\n",
              "      <td>1</td>\n",
              "      <td>0</td>\n",
              "    </tr>\n",
              "    <tr>\n",
              "      <th>1</th>\n",
              "      <td>57</td>\n",
              "      <td>services</td>\n",
              "      <td>married</td>\n",
              "      <td>high.school</td>\n",
              "      <td>unknown</td>\n",
              "      <td>no</td>\n",
              "      <td>no</td>\n",
              "      <td>telephone</td>\n",
              "      <td>may</td>\n",
              "      <td>mon</td>\n",
              "      <td>149</td>\n",
              "      <td>1</td>\n",
              "      <td>999</td>\n",
              "      <td>0</td>\n",
              "      <td>nonexistent</td>\n",
              "      <td>1.1</td>\n",
              "      <td>93.994</td>\n",
              "      <td>-36.4</td>\n",
              "      <td>4.857</td>\n",
              "      <td>5191.0</td>\n",
              "      <td>no</td>\n",
              "      <td>7</td>\n",
              "      <td>1</td>\n",
              "      <td>3</td>\n",
              "      <td>0</td>\n",
              "      <td>0</td>\n",
              "      <td>1</td>\n",
              "      <td>1</td>\n",
              "      <td>0</td>\n",
              "    </tr>\n",
              "    <tr>\n",
              "      <th>2</th>\n",
              "      <td>37</td>\n",
              "      <td>services</td>\n",
              "      <td>married</td>\n",
              "      <td>high.school</td>\n",
              "      <td>no</td>\n",
              "      <td>yes</td>\n",
              "      <td>no</td>\n",
              "      <td>telephone</td>\n",
              "      <td>may</td>\n",
              "      <td>mon</td>\n",
              "      <td>226</td>\n",
              "      <td>1</td>\n",
              "      <td>999</td>\n",
              "      <td>0</td>\n",
              "      <td>nonexistent</td>\n",
              "      <td>1.1</td>\n",
              "      <td>93.994</td>\n",
              "      <td>-36.4</td>\n",
              "      <td>4.857</td>\n",
              "      <td>5191.0</td>\n",
              "      <td>no</td>\n",
              "      <td>7</td>\n",
              "      <td>1</td>\n",
              "      <td>3</td>\n",
              "      <td>2</td>\n",
              "      <td>0</td>\n",
              "      <td>1</td>\n",
              "      <td>1</td>\n",
              "      <td>0</td>\n",
              "    </tr>\n",
              "    <tr>\n",
              "      <th>3</th>\n",
              "      <td>40</td>\n",
              "      <td>admin.</td>\n",
              "      <td>married</td>\n",
              "      <td>basic.6y</td>\n",
              "      <td>no</td>\n",
              "      <td>no</td>\n",
              "      <td>no</td>\n",
              "      <td>telephone</td>\n",
              "      <td>may</td>\n",
              "      <td>mon</td>\n",
              "      <td>151</td>\n",
              "      <td>1</td>\n",
              "      <td>999</td>\n",
              "      <td>0</td>\n",
              "      <td>nonexistent</td>\n",
              "      <td>1.1</td>\n",
              "      <td>93.994</td>\n",
              "      <td>-36.4</td>\n",
              "      <td>4.857</td>\n",
              "      <td>5191.0</td>\n",
              "      <td>no</td>\n",
              "      <td>0</td>\n",
              "      <td>1</td>\n",
              "      <td>1</td>\n",
              "      <td>0</td>\n",
              "      <td>0</td>\n",
              "      <td>1</td>\n",
              "      <td>1</td>\n",
              "      <td>0</td>\n",
              "    </tr>\n",
              "    <tr>\n",
              "      <th>4</th>\n",
              "      <td>56</td>\n",
              "      <td>services</td>\n",
              "      <td>married</td>\n",
              "      <td>high.school</td>\n",
              "      <td>no</td>\n",
              "      <td>no</td>\n",
              "      <td>yes</td>\n",
              "      <td>telephone</td>\n",
              "      <td>may</td>\n",
              "      <td>mon</td>\n",
              "      <td>307</td>\n",
              "      <td>1</td>\n",
              "      <td>999</td>\n",
              "      <td>0</td>\n",
              "      <td>nonexistent</td>\n",
              "      <td>1.1</td>\n",
              "      <td>93.994</td>\n",
              "      <td>-36.4</td>\n",
              "      <td>4.857</td>\n",
              "      <td>5191.0</td>\n",
              "      <td>no</td>\n",
              "      <td>7</td>\n",
              "      <td>1</td>\n",
              "      <td>3</td>\n",
              "      <td>0</td>\n",
              "      <td>2</td>\n",
              "      <td>1</td>\n",
              "      <td>1</td>\n",
              "      <td>0</td>\n",
              "    </tr>\n",
              "  </tbody>\n",
              "</table>\n",
              "</div>"
            ],
            "text/plain": [
              "   age        job  marital  ... contact_code poutcome_code subscribed\n",
              "0   56  housemaid  married  ...            1             1          0\n",
              "1   57   services  married  ...            1             1          0\n",
              "2   37   services  married  ...            1             1          0\n",
              "3   40     admin.  married  ...            1             1          0\n",
              "4   56   services  married  ...            1             1          0\n",
              "\n",
              "[5 rows x 29 columns]"
            ]
          },
          "metadata": {
            "tags": []
          },
          "execution_count": 5
        }
      ]
    },
    {
      "cell_type": "code",
      "metadata": {
        "id": "RqqrOnVuJRM6",
        "colab_type": "code",
        "colab": {}
      },
      "source": [
        "df=df.drop(['job','marital','education','housing','loan','contact','poutcome','y','day_of_week','month','default']\n",
        "             ,axis=1)\n"
      ],
      "execution_count": null,
      "outputs": []
    },
    {
      "cell_type": "markdown",
      "metadata": {
        "id": "6QHboHbGNi3t",
        "colab_type": "text"
      },
      "source": [
        "`** MLP Neural Network Model Creation**`\n",
        "\n",
        "---\n",
        "\n",
        "\n",
        "\n",
        "---\n",
        "\n"
      ]
    },
    {
      "cell_type": "markdown",
      "metadata": {
        "id": "MBiorSFJLU7A",
        "colab_type": "text"
      },
      "source": [
        "it is important that data is normalized before being fed into a model.We shall be using StandardScaler from scikit learn library along with MLP classifier for model creation."
      ]
    },
    {
      "cell_type": "markdown",
      "metadata": {
        "id": "sVC05OotLZIc",
        "colab_type": "text"
      },
      "source": [
        "**StandardScaler** standardizes a feature by subtracting the mean and then scaling to unit variance. Unit variance means dividing all the values by the standard deviation. ...** StandardScaler** makes the mean of the distribution 0. About 68% of the values will lie be between -1 and 1.\n",
        "\n",
        "X is input variable & y is output variable"
      ]
    },
    {
      "cell_type": "code",
      "metadata": {
        "id": "bpTufd3FJiu5",
        "colab_type": "code",
        "colab": {
          "base_uri": "https://localhost:8080/",
          "height": 34
        },
        "outputId": "ce79b864-ebab-4da3-dde4-cd45ac798ffe"
      },
      "source": [
        "X=df.drop('subscribed',axis=1)\n",
        "y= df['subscribed']\n",
        "from sklearn.model_selection import train_test_split\n",
        "X_train,X_test,y_train,y_test = train_test_split(X,y)\n",
        "from sklearn.preprocessing import StandardScaler\n",
        "scaler = StandardScaler()\n",
        "# Fit the Training Data \n",
        "scaler.fit(X_train)"
      ],
      "execution_count": null,
      "outputs": [
        {
          "output_type": "execute_result",
          "data": {
            "text/plain": [
              "StandardScaler(copy=True, with_mean=True, with_std=True)"
            ]
          },
          "metadata": {
            "tags": []
          },
          "execution_count": 7
        }
      ]
    },
    {
      "cell_type": "markdown",
      "metadata": {
        "id": "D1TNLBzjN1Sp",
        "colab_type": "text"
      },
      "source": [
        "MLP classifier models take at least 3 layers . For simplicity sake we shall be taking 3 layers — ( 13 input, 10 hidden & 2 output) with maximum iterations of 100. This parameters can be fine tuned later on based on domain and data to improve the accuracy."
      ]
    },
    {
      "cell_type": "code",
      "metadata": {
        "id": "5gCasc0tNb0C",
        "colab_type": "code",
        "colab": {
          "base_uri": "https://localhost:8080/",
          "height": 207
        },
        "outputId": "29b37e57-d5c6-442d-b009-8199bfaeb53c"
      },
      "source": [
        "X_train = scaler.transform(X_train)\n",
        "X_test = scaler.transform(X_test)\n",
        "from sklearn.neural_network import MLPClassifier\n",
        "mlp = MLPClassifier(hidden_layer_sizes=(13,10,2),max_iter=100)\n",
        "mlp.fit(X_train,y_train)"
      ],
      "execution_count": null,
      "outputs": [
        {
          "output_type": "stream",
          "text": [
            "/usr/local/lib/python3.6/dist-packages/sklearn/neural_network/_multilayer_perceptron.py:571: ConvergenceWarning: Stochastic Optimizer: Maximum iterations (100) reached and the optimization hasn't converged yet.\n",
            "  % self.max_iter, ConvergenceWarning)\n"
          ],
          "name": "stderr"
        },
        {
          "output_type": "execute_result",
          "data": {
            "text/plain": [
              "MLPClassifier(activation='relu', alpha=0.0001, batch_size='auto', beta_1=0.9,\n",
              "              beta_2=0.999, early_stopping=False, epsilon=1e-08,\n",
              "              hidden_layer_sizes=(13, 10, 2), learning_rate='constant',\n",
              "              learning_rate_init=0.001, max_fun=15000, max_iter=100,\n",
              "              momentum=0.9, n_iter_no_change=10, nesterovs_momentum=True,\n",
              "              power_t=0.5, random_state=None, shuffle=True, solver='adam',\n",
              "              tol=0.0001, validation_fraction=0.1, verbose=False,\n",
              "              warm_start=False)"
            ]
          },
          "metadata": {
            "tags": []
          },
          "execution_count": 8
        }
      ]
    },
    {
      "cell_type": "markdown",
      "metadata": {
        "id": "reKXEUKbO6yy",
        "colab_type": "text"
      },
      "source": [
        "Confusion matrix"
      ]
    },
    {
      "cell_type": "code",
      "metadata": {
        "id": "0hFfozfZOClu",
        "colab_type": "code",
        "colab": {
          "base_uri": "https://localhost:8080/",
          "height": 51
        },
        "outputId": "8b1298f6-b6eb-430c-d11e-90e882602818"
      },
      "source": [
        "predictions =mlp.predict(X_test)\n",
        "from sklearn.metrics import classification_report,confusion_matrix\n",
        "print(confusion_matrix(y_test,predictions))"
      ],
      "execution_count": null,
      "outputs": [
        {
          "output_type": "stream",
          "text": [
            "[[8735  366]\n",
            " [ 581  615]]\n"
          ],
          "name": "stdout"
        }
      ]
    },
    {
      "cell_type": "code",
      "metadata": {
        "id": "5XnmSS7uO6Qk",
        "colab_type": "code",
        "colab": {
          "base_uri": "https://localhost:8080/",
          "height": 34
        },
        "outputId": "78016b3d-1be0-4cb2-aaa6-70089fc74995"
      },
      "source": [
        "from sklearn.metrics import accuracy_score\n",
        "accuracy_score(y_test,predictions)*100"
      ],
      "execution_count": null,
      "outputs": [
        {
          "output_type": "execute_result",
          "data": {
            "text/plain": [
              "90.80314654753812"
            ]
          },
          "metadata": {
            "tags": []
          },
          "execution_count": 11
        }
      ]
    },
    {
      "cell_type": "code",
      "metadata": {
        "id": "YttX7mynPAVi",
        "colab_type": "code",
        "colab": {}
      },
      "source": [
        ""
      ],
      "execution_count": null,
      "outputs": []
    },
    {
      "cell_type": "markdown",
      "metadata": {
        "id": "TA_NyiGXPQSA",
        "colab_type": "text"
      },
      "source": [
        "# MLP models for Multiclass Classification"
      ]
    },
    {
      "cell_type": "markdown",
      "metadata": {
        "id": "8qs0yaSHW1g9",
        "colab_type": "text"
      },
      "source": [
        "In this we are using Keras for Multiclass Classification on Iris Dataset.\n",
        "\n",
        "Here we are importing Required Libraries"
      ]
    },
    {
      "cell_type": "code",
      "metadata": {
        "id": "foQHfv38PVSG",
        "colab_type": "code",
        "colab": {
          "base_uri": "https://localhost:8080/",
          "height": 34
        },
        "outputId": "55f27674-9677-4224-db90-207d00120efd"
      },
      "source": [
        "import pandas\n",
        "from keras.models import Sequential\n",
        "from keras.layers import Dense\n",
        "from keras.wrappers.scikit_learn import KerasClassifier\n",
        "from keras.utils import np_utils\n",
        "from sklearn.model_selection import cross_val_score\n",
        "from sklearn.model_selection import KFold\n",
        "from sklearn.preprocessing import LabelEncoder\n",
        "from sklearn.pipeline import Pipeline"
      ],
      "execution_count": null,
      "outputs": [
        {
          "output_type": "stream",
          "text": [
            "Using TensorFlow backend.\n"
          ],
          "name": "stderr"
        }
      ]
    },
    {
      "cell_type": "markdown",
      "metadata": {
        "id": "nqCyX6bnXGdh",
        "colab_type": "text"
      },
      "source": [
        "Read Iris Dataset in which last Column is of Y(Output) and 0-3 of X(input)"
      ]
    },
    {
      "cell_type": "code",
      "metadata": {
        "id": "ys0vh2XhUu_Y",
        "colab_type": "code",
        "colab": {}
      },
      "source": [
        "dataframe = pandas.read_csv(\"/content/iris.data\", header=None)\n",
        "dataset = dataframe.values\n",
        "X = dataset[:,0:4].astype(float)\n",
        "Y = dataset[:,4]"
      ],
      "execution_count": null,
      "outputs": []
    },
    {
      "cell_type": "code",
      "metadata": {
        "id": "-Np6VjQHUz3M",
        "colab_type": "code",
        "colab": {}
      },
      "source": [
        "dataframe.head()"
      ],
      "execution_count": null,
      "outputs": []
    },
    {
      "cell_type": "markdown",
      "metadata": {
        "id": "R41VwFcoXV4O",
        "colab_type": "text"
      },
      "source": [
        "Here we are using Label encoder\n",
        "\n",
        "> Label Encoding refers to converting the labels into numeric form so as to convert it into the machine-readable form\n",
        "\n"
      ]
    },
    {
      "cell_type": "code",
      "metadata": {
        "id": "f0Fngq6FVSm_",
        "colab_type": "code",
        "colab": {}
      },
      "source": [
        "# encode class values as integers\n",
        "encoder = LabelEncoder()\n",
        "encoder.fit(Y)\n",
        "encoded_Y = encoder.transform(Y)\n",
        "# convert integers to dummy variables (i.e. one hot encoded)\n",
        "dummy_y = np_utils.to_categorical(encoded_Y)"
      ],
      "execution_count": null,
      "outputs": []
    },
    {
      "cell_type": "markdown",
      "metadata": {
        "id": "mXebB84iXijg",
        "colab_type": "text"
      },
      "source": [
        "**Neural Network Model **\n",
        "\n",
        "Here 4 inputs...8 hidden layer and 3 outputs"
      ]
    },
    {
      "cell_type": "code",
      "metadata": {
        "id": "6braDjO4WKSN",
        "colab_type": "code",
        "colab": {}
      },
      "source": [
        "# define baseline model\n",
        "def baseline_model():\n",
        "\t# create model\n",
        "\tmodel = Sequential()\n",
        "\tmodel.add(Dense(8, input_dim=4, activation='relu'))\n",
        "\tmodel.add(Dense(3, activation='softmax'))\n",
        "\t# Compile model\n",
        "\tmodel.compile(loss='categorical_crossentropy', optimizer='adam', metrics=['accuracy'])\n",
        "\treturn model"
      ],
      "execution_count": null,
      "outputs": []
    },
    {
      "cell_type": "code",
      "metadata": {
        "id": "AuHZpxyQWVY8",
        "colab_type": "code",
        "colab": {}
      },
      "source": [
        "estimator = KerasClassifier(build_fn=baseline_model, epochs=200, batch_size=5, verbose=0)\n"
      ],
      "execution_count": null,
      "outputs": []
    },
    {
      "cell_type": "code",
      "metadata": {
        "id": "FjGSi9bnWdc6",
        "colab_type": "code",
        "colab": {}
      },
      "source": [
        "kfold = KFold(n_splits=10, shuffle=True)"
      ],
      "execution_count": null,
      "outputs": []
    },
    {
      "cell_type": "code",
      "metadata": {
        "id": "0zz9xFELWi4j",
        "colab_type": "code",
        "colab": {
          "base_uri": "https://localhost:8080/",
          "height": 34
        },
        "outputId": "5c47a4c4-c491-463c-a894-dcdb0c84bc32"
      },
      "source": [
        "results = cross_val_score(estimator, X, dummy_y, cv=kfold)\n",
        "print(\"Baseline: %.2f%% (%.2f%%)\" % (results.mean()*100, results.std()*100))"
      ],
      "execution_count": null,
      "outputs": [
        {
          "output_type": "stream",
          "text": [
            "Baseline: 96.67% (3.33%)\n"
          ],
          "name": "stdout"
        }
      ]
    },
    {
      "cell_type": "code",
      "metadata": {
        "id": "Q6Vzo8EkWlfM",
        "colab_type": "code",
        "colab": {}
      },
      "source": [
        ""
      ],
      "execution_count": null,
      "outputs": []
    },
    {
      "cell_type": "markdown",
      "metadata": {
        "id": "ZxPXLJluxI9t",
        "colab_type": "text"
      },
      "source": [
        "# MLP for Regression\n",
        "\n",
        "**Using Fuel dataset to predict Fuel Efficiency."
      ]
    },
    {
      "cell_type": "markdown",
      "metadata": {
        "id": "ymJA0xCUWahs",
        "colab_type": "text"
      },
      "source": [
        "Import Libraries "
      ]
    },
    {
      "cell_type": "code",
      "metadata": {
        "id": "a6Kx9h4OW4Mr",
        "colab_type": "code",
        "colab": {
          "base_uri": "https://localhost:8080/",
          "height": 34
        },
        "outputId": "453e81fa-c913-487a-f1e2-ca8c2e0ab934"
      },
      "source": [
        "!pip install -q git+https://github.com/tensorflow/docs"
      ],
      "execution_count": null,
      "outputs": [
        {
          "output_type": "stream",
          "text": [
            "  Building wheel for tensorflow-docs (setup.py) ... \u001b[?25l\u001b[?25hdone\n"
          ],
          "name": "stdout"
        }
      ]
    },
    {
      "cell_type": "code",
      "metadata": {
        "id": "SdeRzm9KWZTf",
        "colab_type": "code",
        "colab": {}
      },
      "source": [
        "import pathlib\n",
        "import matplotlib.pyplot as plt\n",
        "import numpy as np\n",
        "import pandas as pd\n",
        "import seaborn as sns\n",
        "\n",
        "import tensorflow as tf\n",
        "from tensorflow import keras\n",
        "from tensorflow.keras import layers\n",
        "\n",
        "import tensorflow_docs as tfdocs\n",
        "import tensorflow_docs.plots\n",
        "import tensorflow_docs.modeling\n",
        "\n",
        "from sklearn.model_selection import cross_val_score\n",
        "from sklearn.model_selection import KFold\n"
      ],
      "execution_count": null,
      "outputs": []
    },
    {
      "cell_type": "markdown",
      "metadata": {
        "id": "Da6d4WRAXDKz",
        "colab_type": "text"
      },
      "source": [
        "First download the dataset using Keras"
      ]
    },
    {
      "cell_type": "code",
      "metadata": {
        "id": "h-LtIxXsWhv2",
        "colab_type": "code",
        "colab": {
          "base_uri": "https://localhost:8080/",
          "height": 34
        },
        "outputId": "1b975de8-df2f-443b-934e-56ccf89688fd"
      },
      "source": [
        "dataset = keras.utils.get_file(\"auto-mpg.data\", \"http://archive.ics.uci.edu/ml/machine-learning-databases/auto-mpg/auto-mpg.data\")\n",
        "dataset"
      ],
      "execution_count": null,
      "outputs": [
        {
          "output_type": "execute_result",
          "data": {
            "text/plain": [
              "'/root/.keras/datasets/auto-mpg.data'"
            ]
          },
          "metadata": {
            "tags": []
          },
          "execution_count": 108
        }
      ]
    },
    {
      "cell_type": "code",
      "metadata": {
        "id": "Ro4RhOgdWk0d",
        "colab_type": "code",
        "colab": {
          "base_uri": "https://localhost:8080/",
          "height": 204
        },
        "outputId": "b9ac2f3d-38c3-4bae-c881-edaf8f73b8f8"
      },
      "source": [
        "columns = ['MPG','Cylinders','Displacement','Horsepower','Weight',\n",
        "                'Acceleration', 'Model Year', 'Origin']\n",
        "df = pd.read_csv(dataset, names=columns,\n",
        "                      na_values = \"?\", comment='\\t',\n",
        "                      sep=\" \", skipinitialspace=True)\n",
        "\n",
        "df.head()"
      ],
      "execution_count": null,
      "outputs": [
        {
          "output_type": "execute_result",
          "data": {
            "text/html": [
              "<div>\n",
              "<style scoped>\n",
              "    .dataframe tbody tr th:only-of-type {\n",
              "        vertical-align: middle;\n",
              "    }\n",
              "\n",
              "    .dataframe tbody tr th {\n",
              "        vertical-align: top;\n",
              "    }\n",
              "\n",
              "    .dataframe thead th {\n",
              "        text-align: right;\n",
              "    }\n",
              "</style>\n",
              "<table border=\"1\" class=\"dataframe\">\n",
              "  <thead>\n",
              "    <tr style=\"text-align: right;\">\n",
              "      <th></th>\n",
              "      <th>MPG</th>\n",
              "      <th>Cylinders</th>\n",
              "      <th>Displacement</th>\n",
              "      <th>Horsepower</th>\n",
              "      <th>Weight</th>\n",
              "      <th>Acceleration</th>\n",
              "      <th>Model Year</th>\n",
              "      <th>Origin</th>\n",
              "    </tr>\n",
              "  </thead>\n",
              "  <tbody>\n",
              "    <tr>\n",
              "      <th>0</th>\n",
              "      <td>18.0</td>\n",
              "      <td>8</td>\n",
              "      <td>307.0</td>\n",
              "      <td>130.0</td>\n",
              "      <td>3504.0</td>\n",
              "      <td>12.0</td>\n",
              "      <td>70</td>\n",
              "      <td>1</td>\n",
              "    </tr>\n",
              "    <tr>\n",
              "      <th>1</th>\n",
              "      <td>15.0</td>\n",
              "      <td>8</td>\n",
              "      <td>350.0</td>\n",
              "      <td>165.0</td>\n",
              "      <td>3693.0</td>\n",
              "      <td>11.5</td>\n",
              "      <td>70</td>\n",
              "      <td>1</td>\n",
              "    </tr>\n",
              "    <tr>\n",
              "      <th>2</th>\n",
              "      <td>18.0</td>\n",
              "      <td>8</td>\n",
              "      <td>318.0</td>\n",
              "      <td>150.0</td>\n",
              "      <td>3436.0</td>\n",
              "      <td>11.0</td>\n",
              "      <td>70</td>\n",
              "      <td>1</td>\n",
              "    </tr>\n",
              "    <tr>\n",
              "      <th>3</th>\n",
              "      <td>16.0</td>\n",
              "      <td>8</td>\n",
              "      <td>304.0</td>\n",
              "      <td>150.0</td>\n",
              "      <td>3433.0</td>\n",
              "      <td>12.0</td>\n",
              "      <td>70</td>\n",
              "      <td>1</td>\n",
              "    </tr>\n",
              "    <tr>\n",
              "      <th>4</th>\n",
              "      <td>17.0</td>\n",
              "      <td>8</td>\n",
              "      <td>302.0</td>\n",
              "      <td>140.0</td>\n",
              "      <td>3449.0</td>\n",
              "      <td>10.5</td>\n",
              "      <td>70</td>\n",
              "      <td>1</td>\n",
              "    </tr>\n",
              "  </tbody>\n",
              "</table>\n",
              "</div>"
            ],
            "text/plain": [
              "    MPG  Cylinders  Displacement  ...  Acceleration  Model Year  Origin\n",
              "0  18.0          8         307.0  ...          12.0          70       1\n",
              "1  15.0          8         350.0  ...          11.5          70       1\n",
              "2  18.0          8         318.0  ...          11.0          70       1\n",
              "3  16.0          8         304.0  ...          12.0          70       1\n",
              "4  17.0          8         302.0  ...          10.5          70       1\n",
              "\n",
              "[5 rows x 8 columns]"
            ]
          },
          "metadata": {
            "tags": []
          },
          "execution_count": 109
        }
      ]
    },
    {
      "cell_type": "markdown",
      "metadata": {
        "id": "JOTHJMm5Xzk_",
        "colab_type": "text"
      },
      "source": [
        "**Preprocessing Of Dataset**"
      ]
    },
    {
      "cell_type": "code",
      "metadata": {
        "id": "JUTvumX1Xh2R",
        "colab_type": "code",
        "colab": {
          "base_uri": "https://localhost:8080/",
          "height": 170
        },
        "outputId": "538fae84-757b-4d2d-a2b7-51cb4caac9b3"
      },
      "source": [
        "df.isna().sum()"
      ],
      "execution_count": null,
      "outputs": [
        {
          "output_type": "execute_result",
          "data": {
            "text/plain": [
              "MPG             0\n",
              "Cylinders       0\n",
              "Displacement    0\n",
              "Horsepower      6\n",
              "Weight          0\n",
              "Acceleration    0\n",
              "Model Year      0\n",
              "Origin          0\n",
              "dtype: int64"
            ]
          },
          "metadata": {
            "tags": []
          },
          "execution_count": 110
        }
      ]
    },
    {
      "cell_type": "code",
      "metadata": {
        "id": "ntC5S7gWX7wg",
        "colab_type": "code",
        "colab": {}
      },
      "source": [
        "df = df.dropna()"
      ],
      "execution_count": null,
      "outputs": []
    },
    {
      "cell_type": "markdown",
      "metadata": {
        "id": "rwuiTABPYMlL",
        "colab_type": "text"
      },
      "source": [
        "Here in the dataset we can see that Origin Column is not numeric so we need to use one hot encoder."
      ]
    },
    {
      "cell_type": "code",
      "metadata": {
        "id": "EqGI-XG6YDXF",
        "colab_type": "code",
        "colab": {}
      },
      "source": [
        "df['Origin'] = df['Origin'].map({1: 'USA', 2: 'Europe', 3: 'Japan'})"
      ],
      "execution_count": null,
      "outputs": []
    },
    {
      "cell_type": "code",
      "metadata": {
        "id": "I3PvDtKdY3zA",
        "colab_type": "code",
        "colab": {
          "base_uri": "https://localhost:8080/",
          "height": 204
        },
        "outputId": "4b0c8f29-c652-48a7-bdbe-b95ebbbcf8fe"
      },
      "source": [
        "df = pd.get_dummies(df, prefix='', prefix_sep='')\n",
        "df.head()"
      ],
      "execution_count": null,
      "outputs": [
        {
          "output_type": "execute_result",
          "data": {
            "text/html": [
              "<div>\n",
              "<style scoped>\n",
              "    .dataframe tbody tr th:only-of-type {\n",
              "        vertical-align: middle;\n",
              "    }\n",
              "\n",
              "    .dataframe tbody tr th {\n",
              "        vertical-align: top;\n",
              "    }\n",
              "\n",
              "    .dataframe thead th {\n",
              "        text-align: right;\n",
              "    }\n",
              "</style>\n",
              "<table border=\"1\" class=\"dataframe\">\n",
              "  <thead>\n",
              "    <tr style=\"text-align: right;\">\n",
              "      <th></th>\n",
              "      <th>MPG</th>\n",
              "      <th>Cylinders</th>\n",
              "      <th>Displacement</th>\n",
              "      <th>Horsepower</th>\n",
              "      <th>Weight</th>\n",
              "      <th>Acceleration</th>\n",
              "      <th>Model Year</th>\n",
              "      <th>Europe</th>\n",
              "      <th>Japan</th>\n",
              "      <th>USA</th>\n",
              "    </tr>\n",
              "  </thead>\n",
              "  <tbody>\n",
              "    <tr>\n",
              "      <th>0</th>\n",
              "      <td>18.0</td>\n",
              "      <td>8</td>\n",
              "      <td>307.0</td>\n",
              "      <td>130.0</td>\n",
              "      <td>3504.0</td>\n",
              "      <td>12.0</td>\n",
              "      <td>70</td>\n",
              "      <td>0</td>\n",
              "      <td>0</td>\n",
              "      <td>1</td>\n",
              "    </tr>\n",
              "    <tr>\n",
              "      <th>1</th>\n",
              "      <td>15.0</td>\n",
              "      <td>8</td>\n",
              "      <td>350.0</td>\n",
              "      <td>165.0</td>\n",
              "      <td>3693.0</td>\n",
              "      <td>11.5</td>\n",
              "      <td>70</td>\n",
              "      <td>0</td>\n",
              "      <td>0</td>\n",
              "      <td>1</td>\n",
              "    </tr>\n",
              "    <tr>\n",
              "      <th>2</th>\n",
              "      <td>18.0</td>\n",
              "      <td>8</td>\n",
              "      <td>318.0</td>\n",
              "      <td>150.0</td>\n",
              "      <td>3436.0</td>\n",
              "      <td>11.0</td>\n",
              "      <td>70</td>\n",
              "      <td>0</td>\n",
              "      <td>0</td>\n",
              "      <td>1</td>\n",
              "    </tr>\n",
              "    <tr>\n",
              "      <th>3</th>\n",
              "      <td>16.0</td>\n",
              "      <td>8</td>\n",
              "      <td>304.0</td>\n",
              "      <td>150.0</td>\n",
              "      <td>3433.0</td>\n",
              "      <td>12.0</td>\n",
              "      <td>70</td>\n",
              "      <td>0</td>\n",
              "      <td>0</td>\n",
              "      <td>1</td>\n",
              "    </tr>\n",
              "    <tr>\n",
              "      <th>4</th>\n",
              "      <td>17.0</td>\n",
              "      <td>8</td>\n",
              "      <td>302.0</td>\n",
              "      <td>140.0</td>\n",
              "      <td>3449.0</td>\n",
              "      <td>10.5</td>\n",
              "      <td>70</td>\n",
              "      <td>0</td>\n",
              "      <td>0</td>\n",
              "      <td>1</td>\n",
              "    </tr>\n",
              "  </tbody>\n",
              "</table>\n",
              "</div>"
            ],
            "text/plain": [
              "    MPG  Cylinders  Displacement  Horsepower  ...  Model Year  Europe  Japan  USA\n",
              "0  18.0          8         307.0       130.0  ...          70       0      0    1\n",
              "1  15.0          8         350.0       165.0  ...          70       0      0    1\n",
              "2  18.0          8         318.0       150.0  ...          70       0      0    1\n",
              "3  16.0          8         304.0       150.0  ...          70       0      0    1\n",
              "4  17.0          8         302.0       140.0  ...          70       0      0    1\n",
              "\n",
              "[5 rows x 10 columns]"
            ]
          },
          "metadata": {
            "tags": []
          },
          "execution_count": 113
        }
      ]
    },
    {
      "cell_type": "code",
      "metadata": {
        "id": "oJHAn_wXZB04",
        "colab_type": "code",
        "colab": {}
      },
      "source": [
        "train_df = df.sample(frac=0.8,random_state=0)\n",
        "test_df = df.drop(train_df.index)"
      ],
      "execution_count": null,
      "outputs": []
    },
    {
      "cell_type": "code",
      "metadata": {
        "id": "UpvnrJQfbimS",
        "colab_type": "code",
        "colab": {
          "base_uri": "https://localhost:8080/",
          "height": 204
        },
        "outputId": "11aa5a03-13bf-4e44-eb9a-067da82d1d50"
      },
      "source": [
        "train_df.head()"
      ],
      "execution_count": null,
      "outputs": [
        {
          "output_type": "execute_result",
          "data": {
            "text/html": [
              "<div>\n",
              "<style scoped>\n",
              "    .dataframe tbody tr th:only-of-type {\n",
              "        vertical-align: middle;\n",
              "    }\n",
              "\n",
              "    .dataframe tbody tr th {\n",
              "        vertical-align: top;\n",
              "    }\n",
              "\n",
              "    .dataframe thead th {\n",
              "        text-align: right;\n",
              "    }\n",
              "</style>\n",
              "<table border=\"1\" class=\"dataframe\">\n",
              "  <thead>\n",
              "    <tr style=\"text-align: right;\">\n",
              "      <th></th>\n",
              "      <th>MPG</th>\n",
              "      <th>Cylinders</th>\n",
              "      <th>Displacement</th>\n",
              "      <th>Horsepower</th>\n",
              "      <th>Weight</th>\n",
              "      <th>Acceleration</th>\n",
              "      <th>Model Year</th>\n",
              "      <th>Europe</th>\n",
              "      <th>Japan</th>\n",
              "      <th>USA</th>\n",
              "    </tr>\n",
              "  </thead>\n",
              "  <tbody>\n",
              "    <tr>\n",
              "      <th>146</th>\n",
              "      <td>28.0</td>\n",
              "      <td>4</td>\n",
              "      <td>90.0</td>\n",
              "      <td>75.0</td>\n",
              "      <td>2125.0</td>\n",
              "      <td>14.5</td>\n",
              "      <td>74</td>\n",
              "      <td>0</td>\n",
              "      <td>0</td>\n",
              "      <td>1</td>\n",
              "    </tr>\n",
              "    <tr>\n",
              "      <th>282</th>\n",
              "      <td>22.3</td>\n",
              "      <td>4</td>\n",
              "      <td>140.0</td>\n",
              "      <td>88.0</td>\n",
              "      <td>2890.0</td>\n",
              "      <td>17.3</td>\n",
              "      <td>79</td>\n",
              "      <td>0</td>\n",
              "      <td>0</td>\n",
              "      <td>1</td>\n",
              "    </tr>\n",
              "    <tr>\n",
              "      <th>69</th>\n",
              "      <td>12.0</td>\n",
              "      <td>8</td>\n",
              "      <td>350.0</td>\n",
              "      <td>160.0</td>\n",
              "      <td>4456.0</td>\n",
              "      <td>13.5</td>\n",
              "      <td>72</td>\n",
              "      <td>0</td>\n",
              "      <td>0</td>\n",
              "      <td>1</td>\n",
              "    </tr>\n",
              "    <tr>\n",
              "      <th>378</th>\n",
              "      <td>38.0</td>\n",
              "      <td>4</td>\n",
              "      <td>105.0</td>\n",
              "      <td>63.0</td>\n",
              "      <td>2125.0</td>\n",
              "      <td>14.7</td>\n",
              "      <td>82</td>\n",
              "      <td>0</td>\n",
              "      <td>0</td>\n",
              "      <td>1</td>\n",
              "    </tr>\n",
              "    <tr>\n",
              "      <th>331</th>\n",
              "      <td>33.8</td>\n",
              "      <td>4</td>\n",
              "      <td>97.0</td>\n",
              "      <td>67.0</td>\n",
              "      <td>2145.0</td>\n",
              "      <td>18.0</td>\n",
              "      <td>80</td>\n",
              "      <td>0</td>\n",
              "      <td>1</td>\n",
              "      <td>0</td>\n",
              "    </tr>\n",
              "  </tbody>\n",
              "</table>\n",
              "</div>"
            ],
            "text/plain": [
              "      MPG  Cylinders  Displacement  Horsepower  ...  Model Year  Europe  Japan  USA\n",
              "146  28.0          4          90.0        75.0  ...          74       0      0    1\n",
              "282  22.3          4         140.0        88.0  ...          79       0      0    1\n",
              "69   12.0          8         350.0       160.0  ...          72       0      0    1\n",
              "378  38.0          4         105.0        63.0  ...          82       0      0    1\n",
              "331  33.8          4          97.0        67.0  ...          80       0      1    0\n",
              "\n",
              "[5 rows x 10 columns]"
            ]
          },
          "metadata": {
            "tags": []
          },
          "execution_count": 115
        }
      ]
    },
    {
      "cell_type": "code",
      "metadata": {
        "id": "BU6rZxUebkji",
        "colab_type": "code",
        "colab": {
          "base_uri": "https://localhost:8080/",
          "height": 204
        },
        "outputId": "b095e39b-e4bb-405c-e36b-b0c896e3586c"
      },
      "source": [
        "test_df.head()"
      ],
      "execution_count": null,
      "outputs": [
        {
          "output_type": "execute_result",
          "data": {
            "text/html": [
              "<div>\n",
              "<style scoped>\n",
              "    .dataframe tbody tr th:only-of-type {\n",
              "        vertical-align: middle;\n",
              "    }\n",
              "\n",
              "    .dataframe tbody tr th {\n",
              "        vertical-align: top;\n",
              "    }\n",
              "\n",
              "    .dataframe thead th {\n",
              "        text-align: right;\n",
              "    }\n",
              "</style>\n",
              "<table border=\"1\" class=\"dataframe\">\n",
              "  <thead>\n",
              "    <tr style=\"text-align: right;\">\n",
              "      <th></th>\n",
              "      <th>MPG</th>\n",
              "      <th>Cylinders</th>\n",
              "      <th>Displacement</th>\n",
              "      <th>Horsepower</th>\n",
              "      <th>Weight</th>\n",
              "      <th>Acceleration</th>\n",
              "      <th>Model Year</th>\n",
              "      <th>Europe</th>\n",
              "      <th>Japan</th>\n",
              "      <th>USA</th>\n",
              "    </tr>\n",
              "  </thead>\n",
              "  <tbody>\n",
              "    <tr>\n",
              "      <th>9</th>\n",
              "      <td>15.0</td>\n",
              "      <td>8</td>\n",
              "      <td>390.0</td>\n",
              "      <td>190.0</td>\n",
              "      <td>3850.0</td>\n",
              "      <td>8.5</td>\n",
              "      <td>70</td>\n",
              "      <td>0</td>\n",
              "      <td>0</td>\n",
              "      <td>1</td>\n",
              "    </tr>\n",
              "    <tr>\n",
              "      <th>25</th>\n",
              "      <td>10.0</td>\n",
              "      <td>8</td>\n",
              "      <td>360.0</td>\n",
              "      <td>215.0</td>\n",
              "      <td>4615.0</td>\n",
              "      <td>14.0</td>\n",
              "      <td>70</td>\n",
              "      <td>0</td>\n",
              "      <td>0</td>\n",
              "      <td>1</td>\n",
              "    </tr>\n",
              "    <tr>\n",
              "      <th>28</th>\n",
              "      <td>9.0</td>\n",
              "      <td>8</td>\n",
              "      <td>304.0</td>\n",
              "      <td>193.0</td>\n",
              "      <td>4732.0</td>\n",
              "      <td>18.5</td>\n",
              "      <td>70</td>\n",
              "      <td>0</td>\n",
              "      <td>0</td>\n",
              "      <td>1</td>\n",
              "    </tr>\n",
              "    <tr>\n",
              "      <th>31</th>\n",
              "      <td>25.0</td>\n",
              "      <td>4</td>\n",
              "      <td>113.0</td>\n",
              "      <td>95.0</td>\n",
              "      <td>2228.0</td>\n",
              "      <td>14.0</td>\n",
              "      <td>71</td>\n",
              "      <td>0</td>\n",
              "      <td>1</td>\n",
              "      <td>0</td>\n",
              "    </tr>\n",
              "    <tr>\n",
              "      <th>33</th>\n",
              "      <td>19.0</td>\n",
              "      <td>6</td>\n",
              "      <td>232.0</td>\n",
              "      <td>100.0</td>\n",
              "      <td>2634.0</td>\n",
              "      <td>13.0</td>\n",
              "      <td>71</td>\n",
              "      <td>0</td>\n",
              "      <td>0</td>\n",
              "      <td>1</td>\n",
              "    </tr>\n",
              "  </tbody>\n",
              "</table>\n",
              "</div>"
            ],
            "text/plain": [
              "     MPG  Cylinders  Displacement  Horsepower  ...  Model Year  Europe  Japan  USA\n",
              "9   15.0          8         390.0       190.0  ...          70       0      0    1\n",
              "25  10.0          8         360.0       215.0  ...          70       0      0    1\n",
              "28   9.0          8         304.0       193.0  ...          70       0      0    1\n",
              "31  25.0          4         113.0        95.0  ...          71       0      1    0\n",
              "33  19.0          6         232.0       100.0  ...          71       0      0    1\n",
              "\n",
              "[5 rows x 10 columns]"
            ]
          },
          "metadata": {
            "tags": []
          },
          "execution_count": 116
        }
      ]
    },
    {
      "cell_type": "code",
      "metadata": {
        "id": "bzVasoNYbxYI",
        "colab_type": "code",
        "colab": {
          "base_uri": "https://localhost:8080/",
          "height": 328
        },
        "outputId": "6ff62e8f-d175-4158-8656-af492933a5cc"
      },
      "source": [
        "train_stats = train_df.describe()\n",
        "train_stats.pop(\"MPG\")\n",
        "train_stats = train_stats.transpose()\n",
        "train_stats"
      ],
      "execution_count": null,
      "outputs": [
        {
          "output_type": "execute_result",
          "data": {
            "text/html": [
              "<div>\n",
              "<style scoped>\n",
              "    .dataframe tbody tr th:only-of-type {\n",
              "        vertical-align: middle;\n",
              "    }\n",
              "\n",
              "    .dataframe tbody tr th {\n",
              "        vertical-align: top;\n",
              "    }\n",
              "\n",
              "    .dataframe thead th {\n",
              "        text-align: right;\n",
              "    }\n",
              "</style>\n",
              "<table border=\"1\" class=\"dataframe\">\n",
              "  <thead>\n",
              "    <tr style=\"text-align: right;\">\n",
              "      <th></th>\n",
              "      <th>count</th>\n",
              "      <th>mean</th>\n",
              "      <th>std</th>\n",
              "      <th>min</th>\n",
              "      <th>25%</th>\n",
              "      <th>50%</th>\n",
              "      <th>75%</th>\n",
              "      <th>max</th>\n",
              "    </tr>\n",
              "  </thead>\n",
              "  <tbody>\n",
              "    <tr>\n",
              "      <th>Cylinders</th>\n",
              "      <td>314.0</td>\n",
              "      <td>5.477707</td>\n",
              "      <td>1.699788</td>\n",
              "      <td>3.0</td>\n",
              "      <td>4.00</td>\n",
              "      <td>4.0</td>\n",
              "      <td>8.00</td>\n",
              "      <td>8.0</td>\n",
              "    </tr>\n",
              "    <tr>\n",
              "      <th>Displacement</th>\n",
              "      <td>314.0</td>\n",
              "      <td>195.318471</td>\n",
              "      <td>104.331589</td>\n",
              "      <td>68.0</td>\n",
              "      <td>105.50</td>\n",
              "      <td>151.0</td>\n",
              "      <td>265.75</td>\n",
              "      <td>455.0</td>\n",
              "    </tr>\n",
              "    <tr>\n",
              "      <th>Horsepower</th>\n",
              "      <td>314.0</td>\n",
              "      <td>104.869427</td>\n",
              "      <td>38.096214</td>\n",
              "      <td>46.0</td>\n",
              "      <td>76.25</td>\n",
              "      <td>94.5</td>\n",
              "      <td>128.00</td>\n",
              "      <td>225.0</td>\n",
              "    </tr>\n",
              "    <tr>\n",
              "      <th>Weight</th>\n",
              "      <td>314.0</td>\n",
              "      <td>2990.251592</td>\n",
              "      <td>843.898596</td>\n",
              "      <td>1649.0</td>\n",
              "      <td>2256.50</td>\n",
              "      <td>2822.5</td>\n",
              "      <td>3608.00</td>\n",
              "      <td>5140.0</td>\n",
              "    </tr>\n",
              "    <tr>\n",
              "      <th>Acceleration</th>\n",
              "      <td>314.0</td>\n",
              "      <td>15.559236</td>\n",
              "      <td>2.789230</td>\n",
              "      <td>8.0</td>\n",
              "      <td>13.80</td>\n",
              "      <td>15.5</td>\n",
              "      <td>17.20</td>\n",
              "      <td>24.8</td>\n",
              "    </tr>\n",
              "    <tr>\n",
              "      <th>Model Year</th>\n",
              "      <td>314.0</td>\n",
              "      <td>75.898089</td>\n",
              "      <td>3.675642</td>\n",
              "      <td>70.0</td>\n",
              "      <td>73.00</td>\n",
              "      <td>76.0</td>\n",
              "      <td>79.00</td>\n",
              "      <td>82.0</td>\n",
              "    </tr>\n",
              "    <tr>\n",
              "      <th>Europe</th>\n",
              "      <td>314.0</td>\n",
              "      <td>0.178344</td>\n",
              "      <td>0.383413</td>\n",
              "      <td>0.0</td>\n",
              "      <td>0.00</td>\n",
              "      <td>0.0</td>\n",
              "      <td>0.00</td>\n",
              "      <td>1.0</td>\n",
              "    </tr>\n",
              "    <tr>\n",
              "      <th>Japan</th>\n",
              "      <td>314.0</td>\n",
              "      <td>0.197452</td>\n",
              "      <td>0.398712</td>\n",
              "      <td>0.0</td>\n",
              "      <td>0.00</td>\n",
              "      <td>0.0</td>\n",
              "      <td>0.00</td>\n",
              "      <td>1.0</td>\n",
              "    </tr>\n",
              "    <tr>\n",
              "      <th>USA</th>\n",
              "      <td>314.0</td>\n",
              "      <td>0.624204</td>\n",
              "      <td>0.485101</td>\n",
              "      <td>0.0</td>\n",
              "      <td>0.00</td>\n",
              "      <td>1.0</td>\n",
              "      <td>1.00</td>\n",
              "      <td>1.0</td>\n",
              "    </tr>\n",
              "  </tbody>\n",
              "</table>\n",
              "</div>"
            ],
            "text/plain": [
              "              count         mean         std  ...     50%      75%     max\n",
              "Cylinders     314.0     5.477707    1.699788  ...     4.0     8.00     8.0\n",
              "Displacement  314.0   195.318471  104.331589  ...   151.0   265.75   455.0\n",
              "Horsepower    314.0   104.869427   38.096214  ...    94.5   128.00   225.0\n",
              "Weight        314.0  2990.251592  843.898596  ...  2822.5  3608.00  5140.0\n",
              "Acceleration  314.0    15.559236    2.789230  ...    15.5    17.20    24.8\n",
              "Model Year    314.0    75.898089    3.675642  ...    76.0    79.00    82.0\n",
              "Europe        314.0     0.178344    0.383413  ...     0.0     0.00     1.0\n",
              "Japan         314.0     0.197452    0.398712  ...     0.0     0.00     1.0\n",
              "USA           314.0     0.624204    0.485101  ...     1.0     1.00     1.0\n",
              "\n",
              "[9 rows x 8 columns]"
            ]
          },
          "metadata": {
            "tags": []
          },
          "execution_count": 117
        }
      ]
    },
    {
      "cell_type": "code",
      "metadata": {
        "id": "90d1zdw4kn-n",
        "colab_type": "code",
        "colab": {}
      },
      "source": [
        "train_labels = train_df.pop('MPG')\n",
        "test_labels = test_df.pop('MPG')"
      ],
      "execution_count": null,
      "outputs": []
    },
    {
      "cell_type": "markdown",
      "metadata": {
        "id": "-StlzvlOmQb3",
        "colab_type": "text"
      },
      "source": [
        "Normalize  the dataset"
      ]
    },
    {
      "cell_type": "code",
      "metadata": {
        "id": "Nr99ylYik724",
        "colab_type": "code",
        "colab": {}
      },
      "source": [
        "def norm(x):\n",
        "  return (x - train_stats['mean']) / train_stats['std']\n",
        "#normed_train_data = norm(train_df)\n",
        "#normed_test_data = norm(test_df)"
      ],
      "execution_count": null,
      "outputs": []
    },
    {
      "cell_type": "markdown",
      "metadata": {
        "id": "CQmQpkq0mkPd",
        "colab_type": "text"
      },
      "source": [
        "Build Model"
      ]
    },
    {
      "cell_type": "code",
      "metadata": {
        "id": "7bn_o4-RmFBW",
        "colab_type": "code",
        "colab": {}
      },
      "source": [
        "def build_model():\n",
        "  model = keras.Sequential([\n",
        "    layers.Dense(64, activation='relu', input_shape=[len(train_df.keys())]),\n",
        "    layers.Dense(64, activation='relu'),\n",
        "    layers.Dense(1)\n",
        "  ])\n",
        "\n",
        "  optimizer = tf.keras.optimizers.RMSprop(0.001)\n",
        "\n",
        "  model.compile(loss='mse',\n",
        "                optimizer=optimizer,\n",
        "                metrics=['mae', 'mse'])\n",
        "  return model"
      ],
      "execution_count": null,
      "outputs": []
    },
    {
      "cell_type": "code",
      "metadata": {
        "id": "hInOsRL1mjbH",
        "colab_type": "code",
        "colab": {}
      },
      "source": [
        "model = build_model()"
      ],
      "execution_count": null,
      "outputs": []
    },
    {
      "cell_type": "markdown",
      "metadata": {
        "id": "54cWN-u-my36",
        "colab_type": "text"
      },
      "source": [
        "Model inspection"
      ]
    },
    {
      "cell_type": "code",
      "metadata": {
        "id": "Vs1LEraUmn8e",
        "colab_type": "code",
        "colab": {
          "base_uri": "https://localhost:8080/",
          "height": 255
        },
        "outputId": "1921b880-fd01-4486-bc11-cb84d0e1e25f"
      },
      "source": [
        "model.summary()"
      ],
      "execution_count": null,
      "outputs": [
        {
          "output_type": "stream",
          "text": [
            "Model: \"sequential_4\"\n",
            "_________________________________________________________________\n",
            "Layer (type)                 Output Shape              Param #   \n",
            "=================================================================\n",
            "dense_12 (Dense)             (None, 64)                640       \n",
            "_________________________________________________________________\n",
            "dense_13 (Dense)             (None, 64)                4160      \n",
            "_________________________________________________________________\n",
            "dense_14 (Dense)             (None, 1)                 65        \n",
            "=================================================================\n",
            "Total params: 4,865\n",
            "Trainable params: 4,865\n",
            "Non-trainable params: 0\n",
            "_________________________________________________________________\n"
          ],
          "name": "stdout"
        }
      ]
    },
    {
      "cell_type": "code",
      "metadata": {
        "id": "j26NI8B-m5pa",
        "colab_type": "code",
        "colab": {
          "base_uri": "https://localhost:8080/",
          "height": 374
        },
        "outputId": "21a19238-c2ec-42a0-d671-a66d338e532f"
      },
      "source": [
        "EPOCHS = 1000\n",
        "\n",
        "history = model.fit(\n",
        "  train_df, train_labels,\n",
        "  epochs=EPOCHS, validation_split = 0.2, verbose=0,\n",
        "  callbacks=[tfdocs.modeling.EpochDots()])"
      ],
      "execution_count": null,
      "outputs": [
        {
          "output_type": "stream",
          "text": [
            "\n",
            "Epoch: 0, loss:21883.0586,  mae:68.2273,  mse:21883.0586,  val_loss:182.6894,  val_mae:11.1875,  val_mse:182.6894,  \n",
            "....................................................................................................\n",
            "Epoch: 100, loss:602.7311,  mae:21.7222,  mse:602.7311,  val_loss:592.3028,  val_mae:23.3688,  val_mse:592.3028,  \n",
            "....................................................................................................\n",
            "Epoch: 200, loss:188.4727,  mae:12.0320,  mse:188.4727,  val_loss:36.8875,  val_mae:4.6434,  val_mse:36.8875,  \n",
            "....................................................................................................\n",
            "Epoch: 300, loss:116.5437,  mae:9.5996,  mse:116.5437,  val_loss:42.3669,  val_mae:5.6950,  val_mse:42.3669,  \n",
            "....................................................................................................\n",
            "Epoch: 400, loss:44.2416,  mae:5.6778,  mse:44.2416,  val_loss:86.3313,  val_mae:8.0976,  val_mse:86.3313,  \n",
            "....................................................................................................\n",
            "Epoch: 500, loss:33.0319,  mae:4.8955,  mse:33.0319,  val_loss:14.1894,  val_mae:3.0500,  val_mse:14.1894,  \n",
            "....................................................................................................\n",
            "Epoch: 600, loss:22.6184,  mae:3.7613,  mse:22.6184,  val_loss:9.6517,  val_mae:2.2685,  val_mse:9.6517,  \n",
            "....................................................................................................\n",
            "Epoch: 700, loss:16.3898,  mae:3.1889,  mse:16.3898,  val_loss:9.1923,  val_mae:2.3313,  val_mse:9.1923,  \n",
            "....................................................................................................\n",
            "Epoch: 800, loss:16.2542,  mae:3.2449,  mse:16.2542,  val_loss:17.3784,  val_mae:3.4953,  val_mse:17.3784,  \n",
            "....................................................................................................\n",
            "Epoch: 900, loss:13.0191,  mae:2.7307,  mse:13.0191,  val_loss:15.4924,  val_mae:3.2455,  val_mse:15.4924,  \n",
            "...................................................................................................."
          ],
          "name": "stdout"
        }
      ]
    },
    {
      "cell_type": "markdown",
      "metadata": {
        "id": "6AdxUHJfoLjO",
        "colab_type": "text"
      },
      "source": [
        "Visualize the model's training progress using the stats stored in the history object."
      ]
    },
    {
      "cell_type": "code",
      "metadata": {
        "id": "7-2z5e6EnisA",
        "colab_type": "code",
        "colab": {
          "base_uri": "https://localhost:8080/",
          "height": 204
        },
        "outputId": "72464f6f-e001-4e8e-9641-464555199bf2"
      },
      "source": [
        "hist = pd.DataFrame(history.history)\n",
        "hist['epoch'] = history.epoch\n",
        "hist.head()"
      ],
      "execution_count": null,
      "outputs": [
        {
          "output_type": "execute_result",
          "data": {
            "text/html": [
              "<div>\n",
              "<style scoped>\n",
              "    .dataframe tbody tr th:only-of-type {\n",
              "        vertical-align: middle;\n",
              "    }\n",
              "\n",
              "    .dataframe tbody tr th {\n",
              "        vertical-align: top;\n",
              "    }\n",
              "\n",
              "    .dataframe thead th {\n",
              "        text-align: right;\n",
              "    }\n",
              "</style>\n",
              "<table border=\"1\" class=\"dataframe\">\n",
              "  <thead>\n",
              "    <tr style=\"text-align: right;\">\n",
              "      <th></th>\n",
              "      <th>loss</th>\n",
              "      <th>mae</th>\n",
              "      <th>mse</th>\n",
              "      <th>val_loss</th>\n",
              "      <th>val_mae</th>\n",
              "      <th>val_mse</th>\n",
              "      <th>epoch</th>\n",
              "    </tr>\n",
              "  </thead>\n",
              "  <tbody>\n",
              "    <tr>\n",
              "      <th>0</th>\n",
              "      <td>21883.058594</td>\n",
              "      <td>68.227280</td>\n",
              "      <td>21883.058594</td>\n",
              "      <td>182.689377</td>\n",
              "      <td>11.187451</td>\n",
              "      <td>182.689377</td>\n",
              "      <td>0</td>\n",
              "    </tr>\n",
              "    <tr>\n",
              "      <th>1</th>\n",
              "      <td>225.475143</td>\n",
              "      <td>12.270948</td>\n",
              "      <td>225.475143</td>\n",
              "      <td>148.046158</td>\n",
              "      <td>9.745820</td>\n",
              "      <td>148.046158</td>\n",
              "      <td>1</td>\n",
              "    </tr>\n",
              "    <tr>\n",
              "      <th>2</th>\n",
              "      <td>483.255280</td>\n",
              "      <td>16.653059</td>\n",
              "      <td>483.255280</td>\n",
              "      <td>5006.655762</td>\n",
              "      <td>69.749817</td>\n",
              "      <td>5006.655762</td>\n",
              "      <td>2</td>\n",
              "    </tr>\n",
              "    <tr>\n",
              "      <th>3</th>\n",
              "      <td>4289.326172</td>\n",
              "      <td>57.784199</td>\n",
              "      <td>4289.326172</td>\n",
              "      <td>215.934174</td>\n",
              "      <td>12.541338</td>\n",
              "      <td>215.934174</td>\n",
              "      <td>3</td>\n",
              "    </tr>\n",
              "    <tr>\n",
              "      <th>4</th>\n",
              "      <td>568.027466</td>\n",
              "      <td>20.567749</td>\n",
              "      <td>568.027466</td>\n",
              "      <td>1412.059570</td>\n",
              "      <td>37.029633</td>\n",
              "      <td>1412.059570</td>\n",
              "      <td>4</td>\n",
              "    </tr>\n",
              "  </tbody>\n",
              "</table>\n",
              "</div>"
            ],
            "text/plain": [
              "           loss        mae           mse  ...    val_mae      val_mse  epoch\n",
              "0  21883.058594  68.227280  21883.058594  ...  11.187451   182.689377      0\n",
              "1    225.475143  12.270948    225.475143  ...   9.745820   148.046158      1\n",
              "2    483.255280  16.653059    483.255280  ...  69.749817  5006.655762      2\n",
              "3   4289.326172  57.784199   4289.326172  ...  12.541338   215.934174      3\n",
              "4    568.027466  20.567749    568.027466  ...  37.029633  1412.059570      4\n",
              "\n",
              "[5 rows x 7 columns]"
            ]
          },
          "metadata": {
            "tags": []
          },
          "execution_count": 124
        }
      ]
    },
    {
      "cell_type": "markdown",
      "metadata": {
        "id": "WdkTKUPkofrW",
        "colab_type": "text"
      },
      "source": [
        "Finally, predict MPG values using data in the testing set:"
      ]
    },
    {
      "cell_type": "code",
      "metadata": {
        "id": "JEnH-ZoVoT3F",
        "colab_type": "code",
        "colab": {
          "base_uri": "https://localhost:8080/",
          "height": 504
        },
        "outputId": "a056570d-2f0f-417f-bf96-5cc2d6d004c0"
      },
      "source": [
        "test_predictions = model.predict(test_df).flatten()\n",
        "print(\"test_predictions : \", test_predictions)\n",
        "a = plt.axes(aspect='equal')\n",
        "plt.scatter(test_labels, test_predictions)\n",
        "plt.xlabel('True Values [MPG]')\n",
        "plt.ylabel('Predictions [MPG]')\n",
        "lims = [0, 50]\n",
        "plt.xlim(lims)\n",
        "plt.ylim(lims)\n",
        "_ = plt.plot(lims, lims)"
      ],
      "execution_count": null,
      "outputs": [
        {
          "output_type": "stream",
          "text": [
            "test_predictions :  [14.153587  13.269697  14.5003395 27.187983  19.473936  14.167958\n",
            " 14.92987   14.074026  19.17569   32.90901   30.026352  22.336386\n",
            " 15.284159  29.21209   15.365509  15.713199  16.363825  14.612578\n",
            " 20.618412  14.096133  14.143582  29.870035  20.994135  22.686596\n",
            " 35.96519   27.115788  18.812538  26.428005  19.88822   19.966284\n",
            " 33.498158  23.280846  21.449938  23.65768   31.78924   16.103863\n",
            " 22.349798  36.28486   34.587353  20.833113  36.39922   34.486744\n",
            " 16.936146  38.031925  34.131508  38.569733  23.878584  24.173304\n",
            " 17.94437   28.667925  33.38424   23.01231   36.725567  18.534267\n",
            " 18.218939  18.214449  36.209686  38.64631   23.725874  26.240988\n",
            " 38.260185  36.24579   29.546621  27.685076  32.673515  37.27824\n",
            " 39.15424   38.27052   35.72186   30.340893  23.202486  21.403172\n",
            " 31.78174   34.267017  35.819344  38.4188    39.317078  31.79276  ]\n"
          ],
          "name": "stdout"
        },
        {
          "output_type": "display_data",
          "data": {
            "image/png": "[encoded data removed]",
            "text/plain": [
              "<Figure size 432x288 with 1 Axes>"
            ]
          },
          "metadata": {
            "tags": [],
            "needs_background": "light"
          }
        }
      ]
    },
    {
      "cell_type": "code",
      "metadata": {
        "id": "FSTpDt3Nyxe2",
        "colab_type": "code",
        "colab": {}
      },
      "source": [
        ""
      ],
      "execution_count": null,
      "outputs": []
    },
    {
      "cell_type": "markdown",
      "metadata": {
        "id": "V6V9CdCM21w6",
        "colab_type": "text"
      },
      "source": [
        "# Convolutional Network Models for image classification."
      ]
    },
    {
      "cell_type": "markdown",
      "metadata": {
        "id": "HS017nXI7smw",
        "colab_type": "text"
      },
      "source": [
        "There are many techniques to implement CNN for image classification like : \n",
        "\n",
        "\n",
        "1.   AlexNet : One of the reasons AlexNet managed to significantly reduce the average classification rate is its use of faster ReLU for the non-linear part instead of traditional, slower solutions such as Tanh or Sigmond functions.\n",
        "2.   GoogleNet : The architecture of GoogleNet is 22 layers deep. The team implemented a module they designed called “inception module” to reduce the number of parameters by using batch normalization, RMSprop and image distortions. GoogleNet only has 4 million parameters, a major leap compared to the 60 million parameters of AlexNet.\n",
        "3. ResNet : ResNet can have up to 152 layers. It uses “skip connections” (also known as gated units) to jump over certain layers in the process and introduces heavy batch normalization. The smart implementation of the architecture of ResNet allows it to have about 6 times more layers than GoogleNet with less complexity.\n",
        "\n",
        "\n"
      ]
    },
    {
      "cell_type": "markdown",
      "metadata": {
        "id": "aa99owHRK8d3",
        "colab_type": "text"
      },
      "source": [
        "Here we are using the popular MNIST dataset, this dataset contains handwritten digits."
      ]
    },
    {
      "cell_type": "code",
      "metadata": {
        "id": "5Ti3lTqgLFX-",
        "colab_type": "code",
        "colab": {
          "base_uri": "https://localhost:8080/",
          "height": 68
        },
        "outputId": "f1fce3ee-0c0d-4628-b3e3-a715862c09f9"
      },
      "source": [
        "from keras.datasets import mnist\n",
        "\n",
        "# loading the dataset\n",
        "# here we devided the dataset into train-test data and labels. where x is for data and y is for labels\n",
        "(X_train, y_train), (X_test, y_test) = mnist.load_data()"
      ],
      "execution_count": null,
      "outputs": [
        {
          "output_type": "stream",
          "text": [
            "Using TensorFlow backend.\n"
          ],
          "name": "stderr"
        },
        {
          "output_type": "stream",
          "text": [
            "Downloading data from https://s3.amazonaws.com/img-datasets/mnist.npz\n",
            "11493376/11490434 [==============================] - 1s 0us/step\n"
          ],
          "name": "stdout"
        }
      ]
    },
    {
      "cell_type": "markdown",
      "metadata": {
        "id": "5ezgiDn2LWN0",
        "colab_type": "text"
      },
      "source": [
        "lets see the shape of the data"
      ]
    },
    {
      "cell_type": "code",
      "metadata": {
        "id": "5WsQ8tUtLb17",
        "colab_type": "code",
        "colab": {
          "base_uri": "https://localhost:8080/",
          "height": 85
        },
        "outputId": "c930c648-b996-4428-df2d-904e89093b56"
      },
      "source": [
        "print(\"X_train shape\", X_train.shape)\n",
        "print(\"y_train shape\", y_train.shape)\n",
        "print(\"X_test shape\", X_test.shape)\n",
        "print(\"y_test shape\", y_test.shape)"
      ],
      "execution_count": null,
      "outputs": [
        {
          "output_type": "stream",
          "text": [
            "X_train shape (60000, 28, 28)\n",
            "y_train shape (60000,)\n",
            "X_test shape (10000, 28, 28)\n",
            "y_test shape (10000,)\n"
          ],
          "name": "stdout"
        }
      ]
    },
    {
      "cell_type": "markdown",
      "metadata": {
        "id": "Qs8jYHPULlkF",
        "colab_type": "text"
      },
      "source": [
        "We know that every coloured image have 3 and black&white image have 2 dimensions."
      ]
    },
    {
      "cell_type": "markdown",
      "metadata": {
        "id": "MGjTZvqtL9XE",
        "colab_type": "text"
      },
      "source": [
        "Before we train a CNN model, let’s build a basic Fully Connected Neural Network for the dataset. The basic steps to build an image classification model using a neural network are:\n",
        "\n",
        "Flatten the input image dimensions to 1D (width pixels x height pixels)\n",
        "Normalize the image pixel values (divide by 255)\n",
        "One-Hot Encode the categorical column\n",
        "Build a model architecture (Sequential) with Dense layers\n",
        "Train the model and make predictions\n",
        "Here’s how you can build a neural network model for MNIST. I have commented on the relevant parts of the code"
      ]
    },
    {
      "cell_type": "code",
      "metadata": {
        "id": "zs5ARRxoLfEX",
        "colab_type": "code",
        "colab": {}
      },
      "source": [
        "from keras.datasets import mnist\n",
        "from keras.models import Sequential\n",
        "from keras.layers import Dense, Dropout, Conv2D, MaxPool2D\n",
        "from keras.utils import np_utils"
      ],
      "execution_count": null,
      "outputs": []
    },
    {
      "cell_type": "code",
      "metadata": {
        "id": "E1zTGCGiMDey",
        "colab_type": "code",
        "colab": {}
      },
      "source": [
        "# Flattening the images from the 28x28 pixels to 1D 787 pixels\n",
        "X_train = X_train.reshape(60000, 784)\n",
        "X_test = X_test.reshape(10000, 784)\n",
        "X_train = X_train.astype('float32')\n",
        "X_test = X_test.astype('float32')"
      ],
      "execution_count": null,
      "outputs": []
    },
    {
      "cell_type": "markdown",
      "metadata": {
        "id": "8X7hjYr0MLJ6",
        "colab_type": "text"
      },
      "source": [
        "this step is not so necessary"
      ]
    },
    {
      "cell_type": "code",
      "metadata": {
        "id": "XXU_8cYnMFtF",
        "colab_type": "code",
        "colab": {}
      },
      "source": [
        "# normalizing the data to help with the training\n",
        "X_train /= 255\n",
        "X_test /= 255"
      ],
      "execution_count": null,
      "outputs": []
    },
    {
      "cell_type": "code",
      "metadata": {
        "id": "M6BrbLhYMOB1",
        "colab_type": "code",
        "colab": {
          "base_uri": "https://localhost:8080/",
          "height": 51
        },
        "outputId": "e3cec116-0176-4315-8a7e-fb2503eac796"
      },
      "source": [
        "# one-hot encoding using keras' numpy-related utilities\n",
        "n_classes = 10\n",
        "print(\"Shape before one-hot encoding: \", y_train.shape)\n",
        "Y_train = np_utils.to_categorical(y_train, n_classes)\n",
        "Y_test = np_utils.to_categorical(y_test, n_classes)\n",
        "print(\"Shape after one-hot encoding: \", Y_train.shape)"
      ],
      "execution_count": null,
      "outputs": [
        {
          "output_type": "stream",
          "text": [
            "Shape before one-hot encoding:  (60000,)\n",
            "Shape after one-hot encoding:  (60000, 10)\n"
          ],
          "name": "stdout"
        }
      ]
    },
    {
      "cell_type": "code",
      "metadata": {
        "id": "xBFVHgCHMQ_V",
        "colab_type": "code",
        "colab": {
          "base_uri": "https://localhost:8080/",
          "height": 221
        },
        "outputId": "60b31779-705e-4adb-9660-7f5f7c169f45"
      },
      "source": [
        "# building a linear stack of layers with the sequential model\n",
        "model = Sequential()\n",
        "# hidden layer\n",
        "model.add(Dense(100, input_shape=(784,), activation='relu'))\n",
        "# output layer\n",
        "model.add(Dense(10, activation='softmax'))\n",
        "\n",
        "# looking at the model summary\n",
        "model.summary()"
      ],
      "execution_count": null,
      "outputs": [
        {
          "output_type": "stream",
          "text": [
            "Model: \"sequential_1\"\n",
            "_________________________________________________________________\n",
            "Layer (type)                 Output Shape              Param #   \n",
            "=================================================================\n",
            "dense_1 (Dense)              (None, 100)               78500     \n",
            "_________________________________________________________________\n",
            "dense_2 (Dense)              (None, 10)                1010      \n",
            "=================================================================\n",
            "Total params: 79,510\n",
            "Trainable params: 79,510\n",
            "Non-trainable params: 0\n",
            "_________________________________________________________________\n"
          ],
          "name": "stdout"
        }
      ]
    },
    {
      "cell_type": "code",
      "metadata": {
        "id": "ZI7WozKdMU8O",
        "colab_type": "code",
        "colab": {
          "base_uri": "https://localhost:8080/",
          "height": 391
        },
        "outputId": "eb1a2f2e-7721-4fc6-8109-5f8d258b461c"
      },
      "source": [
        "# compiling the sequential model\n",
        "model.compile(loss='categorical_crossentropy', metrics=['accuracy'], optimizer='adam')\n",
        "# training the model for 10 epochs\n",
        "model.fit(X_train, Y_train, batch_size=128, epochs=10, validation_data=(X_test, Y_test))"
      ],
      "execution_count": null,
      "outputs": [
        {
          "output_type": "stream",
          "text": [
            "Train on 60000 samples, validate on 10000 samples\n",
            "Epoch 1/10\n",
            "60000/60000 [==============================] - 2s 35us/step - loss: 0.3755 - accuracy: 0.8981 - val_loss: 0.1973 - val_accuracy: 0.9440\n",
            "Epoch 2/10\n",
            "60000/60000 [==============================] - 2s 31us/step - loss: 0.1704 - accuracy: 0.9517 - val_loss: 0.1440 - val_accuracy: 0.9591\n",
            "Epoch 3/10\n",
            "60000/60000 [==============================] - 2s 30us/step - loss: 0.1239 - accuracy: 0.9641 - val_loss: 0.1152 - val_accuracy: 0.9681\n",
            "Epoch 4/10\n",
            "60000/60000 [==============================] - 2s 30us/step - loss: 0.0994 - accuracy: 0.9714 - val_loss: 0.1071 - val_accuracy: 0.9680\n",
            "Epoch 5/10\n",
            "60000/60000 [==============================] - 2s 31us/step - loss: 0.0813 - accuracy: 0.9767 - val_loss: 0.0904 - val_accuracy: 0.9724\n",
            "Epoch 6/10\n",
            "60000/60000 [==============================] - 2s 31us/step - loss: 0.0693 - accuracy: 0.9801 - val_loss: 0.0828 - val_accuracy: 0.9755\n",
            "Epoch 7/10\n",
            "60000/60000 [==============================] - 2s 30us/step - loss: 0.0582 - accuracy: 0.9833 - val_loss: 0.0889 - val_accuracy: 0.9725\n",
            "Epoch 8/10\n",
            "60000/60000 [==============================] - 2s 30us/step - loss: 0.0515 - accuracy: 0.9849 - val_loss: 0.0791 - val_accuracy: 0.9752\n",
            "Epoch 9/10\n",
            "60000/60000 [==============================] - 2s 29us/step - loss: 0.0443 - accuracy: 0.9875 - val_loss: 0.0734 - val_accuracy: 0.9780\n",
            "Epoch 10/10\n",
            "60000/60000 [==============================] - 2s 29us/step - loss: 0.0385 - accuracy: 0.9895 - val_loss: 0.0779 - val_accuracy: 0.9771\n"
          ],
          "name": "stdout"
        },
        {
          "output_type": "execute_result",
          "data": {
            "text/plain": [
              "<keras.callbacks.callbacks.History at 0x7f8960c9df60>"
            ]
          },
          "metadata": {
            "tags": []
          },
          "execution_count": 10
        }
      ]
    },
    {
      "cell_type": "code",
      "metadata": {
        "id": "ts7pdSm-MYOc",
        "colab_type": "code",
        "colab": {
          "base_uri": "https://localhost:8080/",
          "height": 51
        },
        "outputId": "48db7723-15a0-4e3e-e1ba-609353b1dd21"
      },
      "source": [
        "model.evaluate(X_test, Y_test)"
      ],
      "execution_count": null,
      "outputs": [
        {
          "output_type": "stream",
          "text": [
            "10000/10000 [==============================] - 0s 26us/step\n"
          ],
          "name": "stdout"
        },
        {
          "output_type": "execute_result",
          "data": {
            "text/plain": [
              "[0.07791864555533976, 0.9771000146865845]"
            ]
          },
          "metadata": {
            "tags": []
          },
          "execution_count": 13
        }
      ]
    },
    {
      "cell_type": "code",
      "metadata": {
        "id": "hwrIOuvkMwKS",
        "colab_type": "code",
        "colab": {
          "base_uri": "https://localhost:8080/",
          "height": 282
        },
        "outputId": "74a2b053-b697-4178-dd10-69ed2f19a396"
      },
      "source": [
        "import matplotlib.pyplot as plt\n",
        "\n",
        "image_index = 4444\n",
        "plt.imshow(X_test[image_index].reshape(28, 28),cmap='Greys')\n"
      ],
      "execution_count": null,
      "outputs": [
        {
          "output_type": "execute_result",
          "data": {
            "text/plain": [
              "<matplotlib.image.AxesImage at 0x7f89513473c8>"
            ]
          },
          "metadata": {
            "tags": []
          },
          "execution_count": 18
        },
        {
          "output_type": "display_data",
          "data": {
            "image/png": "[encoded data removed]",
            "text/plain": [
              "<Figure size 432x288 with 1 Axes>"
            ]
          },
          "metadata": {
            "tags": [],
            "needs_background": "light"
          }
        }
      ]
    },
    {
      "cell_type": "code",
      "metadata": {
        "id": "t_6SayfwNRm3",
        "colab_type": "code",
        "colab": {
          "base_uri": "https://localhost:8080/",
          "height": 282
        },
        "outputId": "1119a6e1-af67-42e6-cb08-133ec2273969"
      },
      "source": [
        "image_index = 570\n",
        "plt.imshow(X_test[image_index].reshape(28, 28),cmap='Greys')"
      ],
      "execution_count": null,
      "outputs": [
        {
          "output_type": "execute_result",
          "data": {
            "text/plain": [
              "<matplotlib.image.AxesImage at 0x7f89513248d0>"
            ]
          },
          "metadata": {
            "tags": []
          },
          "execution_count": 19
        },
        {
          "output_type": "display_data",
          "data": {
            "image/png": "[encoded data removed]",
            "text/plain": [
              "<Figure size 432x288 with 1 Axes>"
            ]
          },
          "metadata": {
            "tags": [],
            "needs_background": "light"
          }
        }
      ]
    },
    {
      "cell_type": "code",
      "metadata": {
        "id": "zCLSmDA9Ni43",
        "colab_type": "code",
        "colab": {}
      },
      "source": [
        ""
      ],
      "execution_count": null,
      "outputs": []
    },
    {
      "cell_type": "markdown",
      "metadata": {
        "id": "rR7w71fSNr65",
        "colab_type": "text"
      },
      "source": [
        "# Recurrent Neural Networks (RNNs) for LSTM\n",
        "https://towardsdatascience.com/understanding-rnn-and-lstm-f7cdf6dfc14e"
      ]
    },
    {
      "cell_type": "markdown",
      "metadata": {
        "id": "Pf8HrooOPOOy",
        "colab_type": "text"
      },
      "source": [
        "What is internal state memory of RNN ?"
      ]
    },
    {
      "cell_type": "markdown",
      "metadata": {
        "id": "qsC9M2f4E6sQ",
        "colab_type": "text"
      },
      "source": [
        "LSTM is basically used for Time Series data analysis\n",
        "\n",
        "\n",
        "1.   Here we are using LSTM architecture for regression\n",
        "\n",
        "\n",
        "\n",
        "\n",
        "---\n",
        "\n"
      ]
    },
    {
      "cell_type": "code",
      "metadata": {
        "id": "uQ9gxSd2eTah",
        "colab_type": "code",
        "colab": {
          "base_uri": "https://localhost:8080/",
          "height": 0
        },
        "outputId": "02f4f090-072c-4bf6-d1eb-04191284bd52"
      },
      "source": [
        "import pandas\n",
        "import matplotlib.pyplot as plt\n",
        "dataset = pandas.read_csv('/content/passengers.csv', usecols=[1], engine='python')\n",
        "plt.plot(dataset)\n",
        "plt.show()"
      ],
      "execution_count": 1,
      "outputs": [
        {
          "output_type": "display_data",
          "data": {
            "image/png": "[encoded data removed]",
            "text/plain": [
              "<Figure size 432x288 with 1 Axes>"
            ]
          },
          "metadata": {
            "tags": [],
            "needs_background": "light"
          }
        }
      ]
    },
    {
      "cell_type": "code",
      "metadata": {
        "id": "qv6OWx04Fzij",
        "colab_type": "code",
        "colab": {
          "base_uri": "https://localhost:8080/",
          "height": 0
        },
        "outputId": "c0731ddf-bf8e-4ee5-82e4-2ca6544cabde"
      },
      "source": [
        "import numpy\n",
        "import matplotlib.pyplot as plt\n",
        "import pandas\n",
        "import math\n",
        "from keras.models import Sequential\n",
        "from keras.layers import Dense\n",
        "from keras.layers import LSTM\n",
        "from sklearn.preprocessing import MinMaxScaler\n",
        "from sklearn.metrics import mean_squared_error"
      ],
      "execution_count": 2,
      "outputs": [
        {
          "output_type": "stream",
          "text": [
            "Using TensorFlow backend.\n"
          ],
          "name": "stderr"
        }
      ]
    },
    {
      "cell_type": "code",
      "metadata": {
        "id": "WBY_DAejF3qP",
        "colab_type": "code",
        "colab": {}
      },
      "source": [
        "dataset = dataset.values\n",
        "dataset = dataset.astype('float32')"
      ],
      "execution_count": 3,
      "outputs": []
    },
    {
      "cell_type": "code",
      "metadata": {
        "id": "FIG1p-f-GFMP",
        "colab_type": "code",
        "colab": {}
      },
      "source": [
        "# normalize the dataset\n",
        "scaler = MinMaxScaler(feature_range=(0, 1))\n",
        "dataset = scaler.fit_transform(dataset)"
      ],
      "execution_count": 4,
      "outputs": []
    },
    {
      "cell_type": "code",
      "metadata": {
        "id": "CybDnfsiGJlV",
        "colab_type": "code",
        "colab": {
          "base_uri": "https://localhost:8080/",
          "height": 0
        },
        "outputId": "b90239cb-a3e4-461a-fb0f-57a2149e3272"
      },
      "source": [
        "# split into train and test sets\n",
        "train_size = int(len(dataset) * 0.67)\n",
        "test_size = len(dataset) - train_size\n",
        "train, test = dataset[0:train_size,:], dataset[train_size:len(dataset),:]\n",
        "print(len(train), len(test))"
      ],
      "execution_count": 5,
      "outputs": [
        {
          "output_type": "stream",
          "text": [
            "96 48\n"
          ],
          "name": "stdout"
        }
      ]
    },
    {
      "cell_type": "code",
      "metadata": {
        "id": "pWiQUfOBGNLm",
        "colab_type": "code",
        "colab": {}
      },
      "source": [
        "# convert an array of values into a dataset matrix\n",
        "def create_dataset(dataset, look_back=1):\n",
        "\tdataX, dataY = [], []\n",
        "\tfor i in range(len(dataset)-look_back-1):\n",
        "\t\ta = dataset[i:(i+look_back), 0]\n",
        "\t\tdataX.append(a)\n",
        "\t\tdataY.append(dataset[i + look_back, 0])\n",
        "\treturn numpy.array(dataX), numpy.array(dataY)"
      ],
      "execution_count": 6,
      "outputs": []
    },
    {
      "cell_type": "code",
      "metadata": {
        "id": "aAJ0IyDlGYsa",
        "colab_type": "code",
        "colab": {}
      },
      "source": [
        "# reshape into X=t and Y=t+1\n",
        "look_back = 1\n",
        "trainX, trainY = create_dataset(train, look_back)\n",
        "testX, testY = create_dataset(test, look_back)"
      ],
      "execution_count": 7,
      "outputs": []
    },
    {
      "cell_type": "code",
      "metadata": {
        "id": "K0AJiWjxGc3r",
        "colab_type": "code",
        "colab": {}
      },
      "source": [
        "# reshape input to be [samples, time steps, features]\n",
        "trainX = numpy.reshape(trainX, (trainX.shape[0], 1, trainX.shape[1]))\n",
        "testX = numpy.reshape(testX, (testX.shape[0], 1, testX.shape[1]))"
      ],
      "execution_count": 8,
      "outputs": []
    },
    {
      "cell_type": "code",
      "metadata": {
        "id": "olI7ARgvGgN6",
        "colab_type": "code",
        "colab": {
          "base_uri": "https://localhost:8080/",
          "height": 0
        },
        "outputId": "b40e0af9-a750-40eb-a94e-7a0322cbe1b1"
      },
      "source": [
        "# create and fit the LSTM network\n",
        "model = Sequential()\n",
        "model.add(LSTM(4, input_shape=(1, look_back)))\n",
        "model.add(Dense(1))\n",
        "model.compile(loss='mean_squared_error', optimizer='adam')\n",
        "model.fit(trainX, trainY, epochs=100, batch_size=1, verbose=2)"
      ],
      "execution_count": 9,
      "outputs": [
        {
          "output_type": "stream",
          "text": [
            "Epoch 1/100\n",
            " - 1s - loss: 0.0313\n",
            "Epoch 2/100\n",
            " - 0s - loss: 0.0144\n",
            "Epoch 3/100\n",
            " - 0s - loss: 0.0117\n",
            "Epoch 4/100\n",
            " - 0s - loss: 0.0107\n",
            "Epoch 5/100\n",
            " - 0s - loss: 0.0098\n",
            "Epoch 6/100\n",
            " - 0s - loss: 0.0089\n",
            "Epoch 7/100\n",
            " - 0s - loss: 0.0080\n",
            "Epoch 8/100\n",
            " - 0s - loss: 0.0071\n",
            "Epoch 9/100\n",
            " - 0s - loss: 0.0062\n",
            "Epoch 10/100\n",
            " - 0s - loss: 0.0054\n",
            "Epoch 11/100\n",
            " - 0s - loss: 0.0047\n",
            "Epoch 12/100\n",
            " - 0s - loss: 0.0041\n",
            "Epoch 13/100\n",
            " - 0s - loss: 0.0035\n",
            "Epoch 14/100\n",
            " - 0s - loss: 0.0031\n",
            "Epoch 15/100\n",
            " - 0s - loss: 0.0027\n",
            "Epoch 16/100\n",
            " - 0s - loss: 0.0025\n",
            "Epoch 17/100\n",
            " - 0s - loss: 0.0023\n",
            "Epoch 18/100\n",
            " - 0s - loss: 0.0022\n",
            "Epoch 19/100\n",
            " - 0s - loss: 0.0021\n",
            "Epoch 20/100\n",
            " - 0s - loss: 0.0021\n",
            "Epoch 21/100\n",
            " - 0s - loss: 0.0021\n",
            "Epoch 22/100\n",
            " - 0s - loss: 0.0021\n",
            "Epoch 23/100\n",
            " - 0s - loss: 0.0020\n",
            "Epoch 24/100\n",
            " - 0s - loss: 0.0020\n",
            "Epoch 25/100\n",
            " - 0s - loss: 0.0020\n",
            "Epoch 26/100\n",
            " - 0s - loss: 0.0020\n",
            "Epoch 27/100\n",
            " - 0s - loss: 0.0020\n",
            "Epoch 28/100\n",
            " - 0s - loss: 0.0020\n",
            "Epoch 29/100\n",
            " - 0s - loss: 0.0020\n",
            "Epoch 30/100\n",
            " - 0s - loss: 0.0020\n",
            "Epoch 31/100\n",
            " - 0s - loss: 0.0020\n",
            "Epoch 32/100\n",
            " - 0s - loss: 0.0021\n",
            "Epoch 33/100\n",
            " - 0s - loss: 0.0020\n",
            "Epoch 34/100\n",
            " - 0s - loss: 0.0020\n",
            "Epoch 35/100\n",
            " - 0s - loss: 0.0020\n",
            "Epoch 36/100\n",
            " - 0s - loss: 0.0020\n",
            "Epoch 37/100\n",
            " - 0s - loss: 0.0020\n",
            "Epoch 38/100\n",
            " - 0s - loss: 0.0020\n",
            "Epoch 39/100\n",
            " - 0s - loss: 0.0021\n",
            "Epoch 40/100\n",
            " - 0s - loss: 0.0020\n",
            "Epoch 41/100\n",
            " - 0s - loss: 0.0019\n",
            "Epoch 42/100\n",
            " - 0s - loss: 0.0020\n",
            "Epoch 43/100\n",
            " - 0s - loss: 0.0020\n",
            "Epoch 44/100\n",
            " - 0s - loss: 0.0021\n",
            "Epoch 45/100\n",
            " - 0s - loss: 0.0020\n",
            "Epoch 46/100\n",
            " - 0s - loss: 0.0020\n",
            "Epoch 47/100\n",
            " - 0s - loss: 0.0020\n",
            "Epoch 48/100\n",
            " - 0s - loss: 0.0021\n",
            "Epoch 49/100\n",
            " - 0s - loss: 0.0020\n",
            "Epoch 50/100\n",
            " - 0s - loss: 0.0021\n",
            "Epoch 51/100\n",
            " - 0s - loss: 0.0019\n",
            "Epoch 52/100\n",
            " - 0s - loss: 0.0021\n",
            "Epoch 53/100\n",
            " - 0s - loss: 0.0020\n",
            "Epoch 54/100\n",
            " - 0s - loss: 0.0021\n",
            "Epoch 55/100\n",
            " - 0s - loss: 0.0021\n",
            "Epoch 56/100\n",
            " - 0s - loss: 0.0020\n",
            "Epoch 57/100\n",
            " - 0s - loss: 0.0020\n",
            "Epoch 58/100\n",
            " - 0s - loss: 0.0020\n",
            "Epoch 59/100\n",
            " - 0s - loss: 0.0020\n",
            "Epoch 60/100\n",
            " - 0s - loss: 0.0019\n",
            "Epoch 61/100\n",
            " - 0s - loss: 0.0020\n",
            "Epoch 62/100\n",
            " - 0s - loss: 0.0020\n",
            "Epoch 63/100\n",
            " - 0s - loss: 0.0020\n",
            "Epoch 64/100\n",
            " - 0s - loss: 0.0020\n",
            "Epoch 65/100\n",
            " - 0s - loss: 0.0019\n",
            "Epoch 66/100\n",
            " - 0s - loss: 0.0021\n",
            "Epoch 67/100\n",
            " - 0s - loss: 0.0020\n",
            "Epoch 68/100\n",
            " - 0s - loss: 0.0021\n",
            "Epoch 69/100\n",
            " - 0s - loss: 0.0020\n",
            "Epoch 70/100\n",
            " - 0s - loss: 0.0020\n",
            "Epoch 71/100\n",
            " - 0s - loss: 0.0020\n",
            "Epoch 72/100\n",
            " - 0s - loss: 0.0020\n",
            "Epoch 73/100\n",
            " - 0s - loss: 0.0021\n",
            "Epoch 74/100\n",
            " - 0s - loss: 0.0021\n",
            "Epoch 75/100\n",
            " - 0s - loss: 0.0020\n",
            "Epoch 76/100\n",
            " - 0s - loss: 0.0020\n",
            "Epoch 77/100\n",
            " - 0s - loss: 0.0020\n",
            "Epoch 78/100\n",
            " - 0s - loss: 0.0020\n",
            "Epoch 79/100\n",
            " - 0s - loss: 0.0020\n",
            "Epoch 80/100\n",
            " - 0s - loss: 0.0021\n",
            "Epoch 81/100\n",
            " - 0s - loss: 0.0020\n",
            "Epoch 82/100\n",
            " - 0s - loss: 0.0021\n",
            "Epoch 83/100\n",
            " - 0s - loss: 0.0020\n",
            "Epoch 84/100\n",
            " - 0s - loss: 0.0020\n",
            "Epoch 85/100\n",
            " - 0s - loss: 0.0020\n",
            "Epoch 86/100\n",
            " - 0s - loss: 0.0020\n",
            "Epoch 87/100\n",
            " - 0s - loss: 0.0021\n",
            "Epoch 88/100\n",
            " - 0s - loss: 0.0019\n",
            "Epoch 89/100\n",
            " - 0s - loss: 0.0020\n",
            "Epoch 90/100\n",
            " - 0s - loss: 0.0019\n",
            "Epoch 91/100\n",
            " - 0s - loss: 0.0020\n",
            "Epoch 92/100\n",
            " - 0s - loss: 0.0021\n",
            "Epoch 93/100\n",
            " - 0s - loss: 0.0020\n",
            "Epoch 94/100\n",
            " - 0s - loss: 0.0020\n",
            "Epoch 95/100\n",
            " - 0s - loss: 0.0021\n",
            "Epoch 96/100\n",
            " - 0s - loss: 0.0020\n",
            "Epoch 97/100\n",
            " - 0s - loss: 0.0020\n",
            "Epoch 98/100\n",
            " - 0s - loss: 0.0020\n",
            "Epoch 99/100\n",
            " - 0s - loss: 0.0020\n",
            "Epoch 100/100\n",
            " - 0s - loss: 0.0021\n"
          ],
          "name": "stdout"
        },
        {
          "output_type": "execute_result",
          "data": {
            "text/plain": [
              "<keras.callbacks.callbacks.History at 0x7fe47a0ec828>"
            ]
          },
          "metadata": {
            "tags": []
          },
          "execution_count": 9
        }
      ]
    },
    {
      "cell_type": "code",
      "metadata": {
        "id": "iZZi-U68GkPr",
        "colab_type": "code",
        "colab": {
          "base_uri": "https://localhost:8080/",
          "height": 0
        },
        "outputId": "04cc3618-9f26-47f0-ca03-5fd90a0d6d32"
      },
      "source": [
        "# make predictions\n",
        "trainPredict = model.predict(trainX)\n",
        "testPredict = model.predict(testX)\n",
        "# invert predictions\n",
        "trainPredict = scaler.inverse_transform(trainPredict)\n",
        "trainY = scaler.inverse_transform([trainY])\n",
        "testPredict = scaler.inverse_transform(testPredict)\n",
        "testY = scaler.inverse_transform([testY])\n",
        "# calculate root mean squared error\n",
        "trainScore = math.sqrt(mean_squared_error(trainY[0], trainPredict[:,0]))\n",
        "print('Train Score: %.2f RMSE' % (trainScore))\n",
        "testScore = math.sqrt(mean_squared_error(testY[0], testPredict[:,0]))\n",
        "print('Test Score: %.2f RMSE' % (testScore))"
      ],
      "execution_count": 10,
      "outputs": [
        {
          "output_type": "stream",
          "text": [
            "Train Score: 23.40 RMSE\n",
            "Test Score: 51.49 RMSE\n"
          ],
          "name": "stdout"
        }
      ]
    },
    {
      "cell_type": "code",
      "metadata": {
        "id": "DOQrUQvfGptr",
        "colab_type": "code",
        "colab": {
          "base_uri": "https://localhost:8080/",
          "height": 0
        },
        "outputId": "2a15970e-6457-4f02-b2fa-f4ef237697b3"
      },
      "source": [
        "# shift train predictions for plotting\n",
        "trainPredictPlot = numpy.empty_like(dataset)\n",
        "trainPredictPlot[:, :] = numpy.nan\n",
        "trainPredictPlot[look_back:len(trainPredict)+look_back, :] = trainPredict\n",
        "# shift test predictions for plotting\n",
        "testPredictPlot = numpy.empty_like(dataset)\n",
        "testPredictPlot[:, :] = numpy.nan\n",
        "testPredictPlot[len(trainPredict)+(look_back*2)+1:len(dataset)-1, :] = testPredict\n",
        "# plot baseline and predictions\n",
        "plt.plot(scaler.inverse_transform(dataset))\n",
        "plt.plot(trainPredictPlot)\n",
        "plt.plot(testPredictPlot)\n",
        "plt.show()"
      ],
      "execution_count": 11,
      "outputs": [
        {
          "output_type": "display_data",
          "data": {
            "image/png": "[encoded data removed]",
            "text/plain": [
              "<Figure size 432x288 with 1 Axes>"
            ]
          },
          "metadata": {
            "tags": [],
            "needs_background": "light"
          }
        }
      ]
    },
    {
      "cell_type": "code",
      "metadata": {
        "id": "7fPo-3hQG2HV",
        "colab_type": "code",
        "colab": {}
      },
      "source": [
        ""
      ],
      "execution_count": null,
      "outputs": []
    },
    {
      "cell_type": "markdown",
      "metadata": {
        "id": "ogry35D4Hhta",
        "colab_type": "text"
      },
      "source": [
        "# Basic Autoencoders using Keras"
      ]
    },
    {
      "cell_type": "code",
      "metadata": {
        "id": "-_k87OiRHl_Z",
        "colab_type": "code",
        "colab": {}
      },
      "source": [
        "from keras.layers import Input, Dense\n",
        "from keras.models import Model\n",
        "\n",
        "# this is the size of our encoded representations\n",
        "encoding_dim = 32  # 32 floats -> compression of factor 24.5, assuming the input is 784 floats\n",
        "\n",
        "# this is our input placeholder\n",
        "input_img = Input(shape=(784,))\n",
        "# \"encoded\" is the encoded representation of the input\n",
        "encoded = Dense(encoding_dim, activation='relu')(input_img)\n",
        "# \"decoded\" is the lossy reconstruction of the input\n",
        "decoded = Dense(784, activation='sigmoid')(encoded)\n",
        "\n",
        "# this model maps an input to its reconstruction\n",
        "autoencoder = Model(input_img, decoded)"
      ],
      "execution_count": 12,
      "outputs": []
    },
    {
      "cell_type": "code",
      "metadata": {
        "id": "B_LsYzTXJYk_",
        "colab_type": "code",
        "colab": {}
      },
      "source": [
        "# this model maps an input to its encoded representation\n",
        "encoder = Model(input_img, encoded)"
      ],
      "execution_count": 13,
      "outputs": []
    },
    {
      "cell_type": "code",
      "metadata": {
        "id": "lhuAZctsJa8o",
        "colab_type": "code",
        "colab": {}
      },
      "source": [
        "# create a placeholder for an encoded (32-dimensional) input\n",
        "encoded_input = Input(shape=(encoding_dim,))\n",
        "# retrieve the last layer of the autoencoder model\n",
        "decoder_layer = autoencoder.layers[-1]\n",
        "# create the decoder model\n",
        "decoder = Model(encoded_input, decoder_layer(encoded_input))"
      ],
      "execution_count": 14,
      "outputs": []
    },
    {
      "cell_type": "code",
      "metadata": {
        "id": "LpxaucfNJdF7",
        "colab_type": "code",
        "colab": {}
      },
      "source": [
        "autoencoder.compile(optimizer='adadelta', loss='binary_crossentropy')"
      ],
      "execution_count": 15,
      "outputs": []
    },
    {
      "cell_type": "code",
      "metadata": {
        "id": "Y54GC5bFJfRG",
        "colab_type": "code",
        "colab": {
          "base_uri": "https://localhost:8080/",
          "height": 0
        },
        "outputId": "160b0a38-91ba-4c31-e93b-5e1f2032eeba"
      },
      "source": [
        "from keras.datasets import mnist\n",
        "import numpy as np\n",
        "(x_train, _), (x_test, _) = mnist.load_data()"
      ],
      "execution_count": 16,
      "outputs": [
        {
          "output_type": "stream",
          "text": [
            "Downloading data from https://s3.amazonaws.com/img-datasets/mnist.npz\n",
            "11493376/11490434 [==============================] - 1s 0us/step\n"
          ],
          "name": "stdout"
        }
      ]
    },
    {
      "cell_type": "code",
      "metadata": {
        "id": "lUwwpunBJh3g",
        "colab_type": "code",
        "colab": {
          "base_uri": "https://localhost:8080/",
          "height": 0
        },
        "outputId": "649d04f2-9179-45c4-e26c-a4594ed777da"
      },
      "source": [
        "x_train = x_train.astype('float32') / 255.\n",
        "x_test = x_test.astype('float32') / 255.\n",
        "x_train = x_train.reshape((len(x_train), np.prod(x_train.shape[1:])))\n",
        "x_test = x_test.reshape((len(x_test), np.prod(x_test.shape[1:])))\n",
        "print (x_train.shape)\n",
        "print (x_test.shape)"
      ],
      "execution_count": 19,
      "outputs": [
        {
          "output_type": "stream",
          "text": [
            "(60000, 784)\n",
            "(10000, 784)\n"
          ],
          "name": "stdout"
        }
      ]
    },
    {
      "cell_type": "code",
      "metadata": {
        "id": "l6xzb3dsJknZ",
        "colab_type": "code",
        "colab": {
          "base_uri": "https://localhost:8080/",
          "height": 0
        },
        "outputId": "dc6b4ba9-6bf3-4db1-8f6f-19b31e09baa2"
      },
      "source": [
        "autoencoder.fit(x_train, x_train,\n",
        "                epochs=50,\n",
        "                batch_size=256)"
      ],
      "execution_count": 20,
      "outputs": [
        {
          "output_type": "stream",
          "text": [
            "Epoch 1/50\n",
            "60000/60000 [==============================] - 2s 39us/step - loss: 0.3627\n",
            "Epoch 2/50\n",
            "60000/60000 [==============================] - 2s 37us/step - loss: 0.2622\n",
            "Epoch 3/50\n",
            "60000/60000 [==============================] - 2s 37us/step - loss: 0.2391\n",
            "Epoch 4/50\n",
            "60000/60000 [==============================] - 2s 38us/step - loss: 0.2184\n",
            "Epoch 5/50\n",
            "60000/60000 [==============================] - 2s 38us/step - loss: 0.2038\n",
            "Epoch 6/50\n",
            "60000/60000 [==============================] - 2s 38us/step - loss: 0.1935\n",
            "Epoch 7/50\n",
            "60000/60000 [==============================] - 2s 37us/step - loss: 0.1854\n",
            "Epoch 8/50\n",
            "60000/60000 [==============================] - 2s 41us/step - loss: 0.1785\n",
            "Epoch 9/50\n",
            "60000/60000 [==============================] - 2s 40us/step - loss: 0.1724\n",
            "Epoch 10/50\n",
            "60000/60000 [==============================] - 2s 41us/step - loss: 0.1670\n",
            "Epoch 11/50\n",
            "60000/60000 [==============================] - 2s 41us/step - loss: 0.1622\n",
            "Epoch 12/50\n",
            "60000/60000 [==============================] - 2s 39us/step - loss: 0.1578\n",
            "Epoch 13/50\n",
            "60000/60000 [==============================] - 2s 38us/step - loss: 0.1538\n",
            "Epoch 14/50\n",
            "60000/60000 [==============================] - 2s 38us/step - loss: 0.1501\n",
            "Epoch 15/50\n",
            "60000/60000 [==============================] - 2s 38us/step - loss: 0.1468\n",
            "Epoch 16/50\n",
            "60000/60000 [==============================] - 2s 38us/step - loss: 0.1437\n",
            "Epoch 17/50\n",
            "60000/60000 [==============================] - 2s 39us/step - loss: 0.1408\n",
            "Epoch 18/50\n",
            "60000/60000 [==============================] - 2s 38us/step - loss: 0.1381\n",
            "Epoch 19/50\n",
            "60000/60000 [==============================] - 2s 38us/step - loss: 0.1357\n",
            "Epoch 20/50\n",
            "60000/60000 [==============================] - 2s 38us/step - loss: 0.1333\n",
            "Epoch 21/50\n",
            "60000/60000 [==============================] - 2s 38us/step - loss: 0.1311\n",
            "Epoch 22/50\n",
            "60000/60000 [==============================] - 2s 39us/step - loss: 0.1289\n",
            "Epoch 23/50\n",
            "60000/60000 [==============================] - 2s 38us/step - loss: 0.1269\n",
            "Epoch 24/50\n",
            "60000/60000 [==============================] - 2s 37us/step - loss: 0.1250\n",
            "Epoch 25/50\n",
            "60000/60000 [==============================] - 2s 38us/step - loss: 0.1232\n",
            "Epoch 26/50\n",
            "60000/60000 [==============================] - 2s 38us/step - loss: 0.1215\n",
            "Epoch 27/50\n",
            "60000/60000 [==============================] - 2s 38us/step - loss: 0.1199\n",
            "Epoch 28/50\n",
            "60000/60000 [==============================] - 2s 38us/step - loss: 0.1184\n",
            "Epoch 29/50\n",
            "60000/60000 [==============================] - 2s 39us/step - loss: 0.1169\n",
            "Epoch 30/50\n",
            "60000/60000 [==============================] - 2s 38us/step - loss: 0.1156\n",
            "Epoch 31/50\n",
            "60000/60000 [==============================] - 2s 38us/step - loss: 0.1144\n",
            "Epoch 32/50\n",
            "60000/60000 [==============================] - 2s 38us/step - loss: 0.1132\n",
            "Epoch 33/50\n",
            "60000/60000 [==============================] - 2s 38us/step - loss: 0.1122\n",
            "Epoch 34/50\n",
            "60000/60000 [==============================] - 2s 38us/step - loss: 0.1111\n",
            "Epoch 35/50\n",
            "60000/60000 [==============================] - 2s 38us/step - loss: 0.1102\n",
            "Epoch 36/50\n",
            "60000/60000 [==============================] - 2s 38us/step - loss: 0.1093\n",
            "Epoch 37/50\n",
            "60000/60000 [==============================] - 2s 38us/step - loss: 0.1085\n",
            "Epoch 38/50\n",
            "60000/60000 [==============================] - 2s 37us/step - loss: 0.1077\n",
            "Epoch 39/50\n",
            "60000/60000 [==============================] - 2s 38us/step - loss: 0.1070\n",
            "Epoch 40/50\n",
            "60000/60000 [==============================] - 2s 38us/step - loss: 0.1063\n",
            "Epoch 41/50\n",
            "60000/60000 [==============================] - 2s 37us/step - loss: 0.1057\n",
            "Epoch 42/50\n",
            "60000/60000 [==============================] - 2s 38us/step - loss: 0.1051\n",
            "Epoch 43/50\n",
            "60000/60000 [==============================] - 2s 37us/step - loss: 0.1046\n",
            "Epoch 44/50\n",
            "60000/60000 [==============================] - 2s 38us/step - loss: 0.1040\n",
            "Epoch 45/50\n",
            "60000/60000 [==============================] - 2s 38us/step - loss: 0.1036\n",
            "Epoch 46/50\n",
            "60000/60000 [==============================] - 2s 37us/step - loss: 0.1031\n",
            "Epoch 47/50\n",
            "60000/60000 [==============================] - 2s 38us/step - loss: 0.1027\n",
            "Epoch 48/50\n",
            "60000/60000 [==============================] - 2s 38us/step - loss: 0.1023\n",
            "Epoch 49/50\n",
            "60000/60000 [==============================] - 2s 38us/step - loss: 0.1019\n",
            "Epoch 50/50\n",
            "60000/60000 [==============================] - 2s 38us/step - loss: 0.1016\n"
          ],
          "name": "stdout"
        },
        {
          "output_type": "execute_result",
          "data": {
            "text/plain": [
              "<keras.callbacks.callbacks.History at 0x7fe478a794a8>"
            ]
          },
          "metadata": {
            "tags": []
          },
          "execution_count": 20
        }
      ]
    },
    {
      "cell_type": "code",
      "metadata": {
        "id": "mpC9Rg6_K9I5",
        "colab_type": "code",
        "colab": {}
      },
      "source": [
        "encoded_imgs = encoder.predict(x_test)\n",
        "decoded_imgs = decoder.predict(encoded_imgs)"
      ],
      "execution_count": 23,
      "outputs": []
    },
    {
      "cell_type": "code",
      "metadata": {
        "id": "AUkpAlVDLSKj",
        "colab_type": "code",
        "colab": {
          "base_uri": "https://localhost:8080/",
          "height": 0
        },
        "outputId": "d03f6b5a-f928-4254-ff63-1d4519a6e33d"
      },
      "source": [
        "import matplotlib.pyplot as plt\n",
        "\n",
        "n = 10  # how many digits we will display\n",
        "plt.figure(figsize=(20, 4))\n",
        "for i in range(n):\n",
        "    # display original\n",
        "    ax = plt.subplot(2, n, i + 1)\n",
        "    plt.imshow(x_test[i].reshape(28, 28))\n",
        "    plt.gray()\n",
        "    ax.get_xaxis().set_visible(False)\n",
        "    ax.get_yaxis().set_visible(False)\n",
        "\n",
        "    # display reconstruction\n",
        "    ax = plt.subplot(2, n, i + 1 + n)\n",
        "    plt.imshow(decoded_imgs[i].reshape(28, 28))\n",
        "    plt.gray()\n",
        "    ax.get_xaxis().set_visible(False)\n",
        "    ax.get_yaxis().set_visible(False)\n",
        "plt.show()\n",
        "#top row is of original\n",
        "#second row is of predicted."
      ],
      "execution_count": 24,
      "outputs": [
        {
          "output_type": "display_data",
          "data": {
            "image/png": "[encoded data removed]",
            "text/plain": [
              "<Figure size 1440x288 with 20 Axes>"
            ]
          },
          "metadata": {
            "tags": [],
            "needs_background": "light"
          }
        }
      ]
    },
    {
      "cell_type": "code",
      "metadata": {
        "id": "oKmWEOxdLVfJ",
        "colab_type": "code",
        "colab": {}
      },
      "source": [
        ""
      ],
      "execution_count": null,
      "outputs": []
    }
  ]
}